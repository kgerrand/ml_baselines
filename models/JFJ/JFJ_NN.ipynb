{
 "cells": [
  {
   "cell_type": "markdown",
   "metadata": {},
   "source": [
    "# Neural Network Final Model - Jungfraujoch, Switzerland"
   ]
  },
  {
   "cell_type": "code",
   "execution_count": 1,
   "metadata": {},
   "outputs": [],
   "source": [
    "import pandas as pd\n",
    "import numpy as np\n",
    "from joblib import dump\n",
    "from pathlib import Path\n",
    "import matplotlib.pyplot as plt\n",
    "import seaborn as sns\n",
    "\n",
    "from sklearn.neural_network import MLPClassifier\n",
    "from sklearn.metrics import precision_score, recall_score, f1_score, accuracy_score\n",
    "\n",
    "import sys\n",
    "sys.path.append('../../')\n",
    "import config as cfg\n",
    "import functions as f\n",
    "\n",
    "data_path = Path.home()/'OneDrive'/'Kirstin'/'Uni'/'Year4'/'MSciProject'/'data_files'/'saved_files'"
   ]
  },
  {
   "cell_type": "code",
   "execution_count": 2,
   "metadata": {},
   "outputs": [
    {
     "name": "stdout",
     "output_type": "stream",
     "text": [
      "Creating a neural network model for \u001b[1mJungfraujoch, Switzerland\u001b[0;0m.\n"
     ]
    }
   ],
   "source": [
    "site = cfg.site\n",
    "site_name = cfg.site_dict[site]\n",
    "assert site == 'JFJ', 'This script is only for Jungfraujoch, Switzerland. The site can be changed in the config file.'\n",
    "\n",
    "compound = cfg.compound\n",
    "\n",
    "print(f\"Creating a neural network model for \\033[1m{site_name}\\033[0;0m.\")"
   ]
  },
  {
   "cell_type": "markdown",
   "metadata": {},
   "source": [
    "### Loading & Initialising Data"
   ]
  },
  {
   "cell_type": "code",
   "execution_count": 3,
   "metadata": {},
   "outputs": [
    {
     "data": {
      "text/html": [
       "<div>\n",
       "<style scoped>\n",
       "    .dataframe tbody tr th:only-of-type {\n",
       "        vertical-align: middle;\n",
       "    }\n",
       "\n",
       "    .dataframe tbody tr th {\n",
       "        vertical-align: top;\n",
       "    }\n",
       "\n",
       "    .dataframe thead th {\n",
       "        text-align: right;\n",
       "    }\n",
       "</style>\n",
       "<table border=\"1\" class=\"dataframe\">\n",
       "  <thead>\n",
       "    <tr style=\"text-align: right;\">\n",
       "      <th></th>\n",
       "      <th>time</th>\n",
       "      <th>flag</th>\n",
       "      <th>u10_0</th>\n",
       "      <th>u10_1</th>\n",
       "      <th>u10_2</th>\n",
       "      <th>u10_3</th>\n",
       "      <th>u10_4</th>\n",
       "      <th>u10_5</th>\n",
       "      <th>u10_6</th>\n",
       "      <th>u10_7</th>\n",
       "      <th>...</th>\n",
       "      <th>v500_7_past</th>\n",
       "      <th>v500_8_past</th>\n",
       "      <th>v500_9_past</th>\n",
       "      <th>v500_10_past</th>\n",
       "      <th>v500_11_past</th>\n",
       "      <th>v500_12_past</th>\n",
       "      <th>v500_13_past</th>\n",
       "      <th>v500_14_past</th>\n",
       "      <th>v500_15_past</th>\n",
       "      <th>v500_16_past</th>\n",
       "    </tr>\n",
       "  </thead>\n",
       "  <tbody>\n",
       "    <tr>\n",
       "      <th>202</th>\n",
       "      <td>2003-02-20 17:00:00</td>\n",
       "      <td>1.0</td>\n",
       "      <td>-1.234784</td>\n",
       "      <td>-3.504484</td>\n",
       "      <td>-2.388150</td>\n",
       "      <td>0.071488</td>\n",
       "      <td>1.340132</td>\n",
       "      <td>-8.660884</td>\n",
       "      <td>-3.553462</td>\n",
       "      <td>-1.669013</td>\n",
       "      <td>...</td>\n",
       "      <td>13.130106</td>\n",
       "      <td>20.408754</td>\n",
       "      <td>8.122837</td>\n",
       "      <td>0.366557</td>\n",
       "      <td>-19.574604</td>\n",
       "      <td>-14.333767</td>\n",
       "      <td>0.861248</td>\n",
       "      <td>-5.036990</td>\n",
       "      <td>11.022749</td>\n",
       "      <td>29.104553</td>\n",
       "    </tr>\n",
       "    <tr>\n",
       "      <th>17914</th>\n",
       "      <td>2020-01-31 13:00:00</td>\n",
       "      <td>1.0</td>\n",
       "      <td>0.647726</td>\n",
       "      <td>5.967995</td>\n",
       "      <td>4.818276</td>\n",
       "      <td>0.438309</td>\n",
       "      <td>-0.837772</td>\n",
       "      <td>3.487022</td>\n",
       "      <td>0.416952</td>\n",
       "      <td>3.155395</td>\n",
       "      <td>...</td>\n",
       "      <td>-6.759500</td>\n",
       "      <td>-2.679932</td>\n",
       "      <td>-15.267915</td>\n",
       "      <td>-7.667624</td>\n",
       "      <td>-18.159939</td>\n",
       "      <td>-8.307191</td>\n",
       "      <td>-3.302424</td>\n",
       "      <td>-10.038057</td>\n",
       "      <td>0.281946</td>\n",
       "      <td>7.896209</td>\n",
       "    </tr>\n",
       "    <tr>\n",
       "      <th>19671</th>\n",
       "      <td>2021-05-13 03:00:00</td>\n",
       "      <td>1.0</td>\n",
       "      <td>0.123080</td>\n",
       "      <td>-0.685026</td>\n",
       "      <td>2.457093</td>\n",
       "      <td>0.498751</td>\n",
       "      <td>1.836306</td>\n",
       "      <td>7.669532</td>\n",
       "      <td>-0.863057</td>\n",
       "      <td>3.392659</td>\n",
       "      <td>...</td>\n",
       "      <td>14.974476</td>\n",
       "      <td>19.020666</td>\n",
       "      <td>6.717653</td>\n",
       "      <td>-9.501921</td>\n",
       "      <td>-8.367641</td>\n",
       "      <td>-0.097616</td>\n",
       "      <td>2.955932</td>\n",
       "      <td>21.607300</td>\n",
       "      <td>22.434303</td>\n",
       "      <td>24.099110</td>\n",
       "    </tr>\n",
       "    <tr>\n",
       "      <th>1742</th>\n",
       "      <td>2005-01-02 11:00:00</td>\n",
       "      <td>1.0</td>\n",
       "      <td>1.384788</td>\n",
       "      <td>6.825878</td>\n",
       "      <td>6.064534</td>\n",
       "      <td>0.812077</td>\n",
       "      <td>0.183526</td>\n",
       "      <td>3.414131</td>\n",
       "      <td>-0.565560</td>\n",
       "      <td>4.885064</td>\n",
       "      <td>...</td>\n",
       "      <td>-4.971477</td>\n",
       "      <td>-7.321579</td>\n",
       "      <td>1.504722</td>\n",
       "      <td>16.325819</td>\n",
       "      <td>-12.646309</td>\n",
       "      <td>-12.569870</td>\n",
       "      <td>-10.206757</td>\n",
       "      <td>-9.396825</td>\n",
       "      <td>-8.876387</td>\n",
       "      <td>-12.571496</td>\n",
       "    </tr>\n",
       "    <tr>\n",
       "      <th>11186</th>\n",
       "      <td>2014-11-07 05:00:00</td>\n",
       "      <td>0.0</td>\n",
       "      <td>-0.714370</td>\n",
       "      <td>-1.030970</td>\n",
       "      <td>0.912552</td>\n",
       "      <td>-0.116551</td>\n",
       "      <td>-4.627644</td>\n",
       "      <td>1.832461</td>\n",
       "      <td>1.234642</td>\n",
       "      <td>-1.034020</td>\n",
       "      <td>...</td>\n",
       "      <td>18.834087</td>\n",
       "      <td>24.226948</td>\n",
       "      <td>24.189518</td>\n",
       "      <td>6.846134</td>\n",
       "      <td>-0.422695</td>\n",
       "      <td>-7.179488</td>\n",
       "      <td>-0.166677</td>\n",
       "      <td>3.478967</td>\n",
       "      <td>15.695991</td>\n",
       "      <td>12.330320</td>\n",
       "    </tr>\n",
       "  </tbody>\n",
       "</table>\n",
       "<p>5 rows × 210 columns</p>\n",
       "</div>"
      ],
      "text/plain": [
       "                     time  flag     u10_0     u10_1     u10_2     u10_3  \\\n",
       "202   2003-02-20 17:00:00   1.0 -1.234784 -3.504484 -2.388150  0.071488   \n",
       "17914 2020-01-31 13:00:00   1.0  0.647726  5.967995  4.818276  0.438309   \n",
       "19671 2021-05-13 03:00:00   1.0  0.123080 -0.685026  2.457093  0.498751   \n",
       "1742  2005-01-02 11:00:00   1.0  1.384788  6.825878  6.064534  0.812077   \n",
       "11186 2014-11-07 05:00:00   0.0 -0.714370 -1.030970  0.912552 -0.116551   \n",
       "\n",
       "          u10_4     u10_5     u10_6     u10_7  ...  v500_7_past  v500_8_past  \\\n",
       "202    1.340132 -8.660884 -3.553462 -1.669013  ...    13.130106    20.408754   \n",
       "17914 -0.837772  3.487022  0.416952  3.155395  ...    -6.759500    -2.679932   \n",
       "19671  1.836306  7.669532 -0.863057  3.392659  ...    14.974476    19.020666   \n",
       "1742   0.183526  3.414131 -0.565560  4.885064  ...    -4.971477    -7.321579   \n",
       "11186 -4.627644  1.832461  1.234642 -1.034020  ...    18.834087    24.226948   \n",
       "\n",
       "       v500_9_past  v500_10_past  v500_11_past  v500_12_past  v500_13_past  \\\n",
       "202       8.122837      0.366557    -19.574604    -14.333767      0.861248   \n",
       "17914   -15.267915     -7.667624    -18.159939     -8.307191     -3.302424   \n",
       "19671     6.717653     -9.501921     -8.367641     -0.097616      2.955932   \n",
       "1742      1.504722     16.325819    -12.646309    -12.569870    -10.206757   \n",
       "11186    24.189518      6.846134     -0.422695     -7.179488     -0.166677   \n",
       "\n",
       "       v500_14_past  v500_15_past  v500_16_past  \n",
       "202       -5.036990     11.022749     29.104553  \n",
       "17914    -10.038057      0.281946      7.896209  \n",
       "19671     21.607300     22.434303     24.099110  \n",
       "1742      -9.396825     -8.876387    -12.571496  \n",
       "11186      3.478967     15.695991     12.330320  \n",
       "\n",
       "[5 rows x 210 columns]"
      ]
     },
     "execution_count": 3,
     "metadata": {},
     "output_type": "execute_result"
    }
   ],
   "source": [
    "data = pd.read_csv(data_path/f'for_model_{compound}_{site}.csv', parse_dates=['time'])\n",
    "data.sample(5)"
   ]
  },
  {
   "cell_type": "code",
   "execution_count": 4,
   "metadata": {},
   "outputs": [
    {
     "name": "stdout",
     "output_type": "stream",
     "text": [
      "Train range: 2018-01-01 01:00:00 -> 2018-12-31 21:00:00. Length: 1130\n",
      "Val range: 2019-01-01 11:00:00 -> 2019-12-31 23:00:00. Length: 1380\n",
      "Test range: 2020-01-01 01:00:00 -> 2023-12-31 23:00:00. Length: 5662\n"
     ]
    }
   ],
   "source": [
    "train_data = data[(data['time'].dt.year >= 2018) & (data['time'].dt.year <= 2018)]\n",
    "val_data = data[(data['time'].dt.year >= 2019) & (data['time'].dt.year <= 2019)]\n",
    "test_data = data[(data['time'].dt.year >= 2020) & (data['time'].dt.year <= 2023)]\n",
    "\n",
    "\n",
    "print(f\"Train range: {train_data['time'].min()} -> {train_data['time'].max()}. Length: {len(train_data)}\")\n",
    "print(f\"Val range: {val_data['time'].min()} -> {val_data['time'].max()}. Length: {len(val_data)}\")\n",
    "print(f\"Test range: {test_data['time'].min()} -> {test_data['time'].max()}. Length: {len(test_data)}\")\n",
    "\n",
    "\n",
    "# Drop the \"time\" column as it won't be used in the model\n",
    "train_data = train_data.drop(columns=['time'])\n",
    "val_data = val_data.drop(columns=['time'])\n",
    "test_data = test_data.drop(columns=['time'])\n",
    "\n",
    "# Define the features (X) and the target (y)\n",
    "X_train = train_data.drop(columns=['flag'])\n",
    "y_train = train_data['flag']\n",
    "X_val = val_data.drop(columns=['flag'])\n",
    "y_val = val_data['flag']\n",
    "X_test = test_data.drop(columns=['flag'])\n",
    "y_test = test_data['flag']\n",
    "\n",
    "# Balanced Data - removing NaN values and associated data\n",
    "y_train = y_train.dropna()\n",
    "y_val = y_val.dropna()\n",
    "y_test = y_test.dropna()\n",
    "\n",
    "# aligning indices of features sets\n",
    "X_train = X_train.loc[y_train.index]\n",
    "X_val = X_val.loc[y_val.index]\n",
    "X_test = X_test.loc[y_test.index]"
   ]
  },
  {
   "cell_type": "markdown",
   "metadata": {},
   "source": [
    "### Model"
   ]
  },
  {
   "cell_type": "code",
   "execution_count": 24,
   "metadata": {},
   "outputs": [
    {
     "name": "stdout",
     "output_type": "stream",
     "text": [
      "Precision on Training Set = 0.865\n",
      "Precision on Validation Set = 0.895\n",
      "Recall on Training Set = 0.950\n",
      "Recall on Validation Set = 0.921\n",
      "F1 Score on Training Set = 0.906\n",
      "F1 Score on Validation Set = 0.908\n",
      "Misclassification Rate on Training Set = 0.158\n",
      "Misclassification Rate on Validation Set = 0.160\n"
     ]
    }
   ],
   "source": [
    "nn_model = MLPClassifier(random_state=42,\n",
    "                         max_iter=50, \n",
    "                         hidden_layer_sizes=(25,), \n",
    "                         shuffle=False,\n",
    "                         activation='relu', \n",
    "                         solver='adam', \n",
    "                         alpha=0.1, \n",
    "                         learning_rate='invscaling', \n",
    "                         batch_size=100, \n",
    "                         early_stopping=True,\n",
    "                         validation_fraction=0.1,\n",
    "                         learning_rate_init=0.01,\n",
    "                         epsilon=2e-10,\n",
    "                         beta_2=0.8,\n",
    "                         tol=1e-3,)\n",
    "\n",
    "nn_model.fit(X_train, y_train)\n",
    "\n",
    "class_probabilities_val = nn_model.predict_proba(X_val)\n",
    "class_probabilities_train = nn_model.predict_proba(X_train)\n",
    "\n",
    "confidence_threshold = cfg.confidence_threshold\n",
    "\n",
    "y_pred_val = (class_probabilities_val[:,1] > confidence_threshold).astype(int)\n",
    "y_pred_train = (class_probabilities_train[:,1] > confidence_threshold).astype(int)\n",
    "\n",
    "precision_val = precision_score(y_val, y_pred_val)\n",
    "precision_train = precision_score(y_train, y_pred_train)\n",
    "recall_val = recall_score(y_val, y_pred_val)\n",
    "recall_train = recall_score(y_train, y_pred_train)\n",
    "f1_val = f1_score(y_val, y_pred_val)\n",
    "f1_train = f1_score(y_train, y_pred_train)\n",
    "misclassification_rate_val = 1 - accuracy_score(y_val, y_pred_val)\n",
    "misclassification_rate_train = 1 - accuracy_score(y_train, y_pred_train)\n",
    "\n",
    "print(f\"Precision on Training Set = {precision_train:.3f}\")\n",
    "print(f\"Precision on Validation Set = {precision_val:.3f}\")\n",
    "print(f\"Recall on Training Set = {recall_train:.3f}\")\n",
    "print(f\"Recall on Validation Set = {recall_val:.3f}\")\n",
    "print(f\"F1 Score on Training Set = {f1_train:.3f}\")\n",
    "print(f\"F1 Score on Validation Set = {f1_val:.3f}\")\n",
    "print(f\"Misclassification Rate on Training Set = {misclassification_rate_train:.3f}\")\n",
    "print(f\"Misclassification Rate on Validation Set = {misclassification_rate_val:.3f}\")"
   ]
  },
  {
   "cell_type": "code",
   "execution_count": 25,
   "metadata": {},
   "outputs": [
    {
     "name": "stdout",
     "output_type": "stream",
     "text": [
      "Precision on Testing Set = 0.888\n",
      "Recall on Testing Set = 0.935\n",
      "F1 Score on Testing Set = 0.911\n",
      "Misclassification Rate on Testing Set = 0.156\n"
     ]
    }
   ],
   "source": [
    "# evaluating model on test set\n",
    "class_probabilities_test = nn_model.predict_proba(X_test)\n",
    "\n",
    "y_pred_test = (class_probabilities_test[:,1] > confidence_threshold).astype(int)\n",
    "\n",
    "precision_test = precision_score(y_test, y_pred_test)\n",
    "recall_test = recall_score(y_test, y_pred_test)\n",
    "f1_test = f1_score(y_test, y_pred_test)\n",
    "misclassification_rate_test = 1 - accuracy_score(y_test, y_pred_test)\n",
    "\n",
    "print(f\"Precision on Testing Set = {precision_test:.3f}\")\n",
    "print(f\"Recall on Testing Set = {recall_test:.3f}\")\n",
    "print(f\"F1 Score on Testing Set = {f1_test:.3f}\")\n",
    "print(f\"Misclassification Rate on Testing Set = {misclassification_rate_test:.3f}\")"
   ]
  },
  {
   "cell_type": "code",
   "execution_count": 26,
   "metadata": {},
   "outputs": [
    {
     "data": {
      "text/plain": [
       "['../model_files/nn_model_JFJ.joblib']"
      ]
     },
     "execution_count": 26,
     "metadata": {},
     "output_type": "execute_result"
    }
   ],
   "source": [
    "# saving the model\n",
    "dump(nn_model, data_path/f'nn_model_{site}.joblib')\n",
    "dump(nn_model, f'../model_files/nn_model_{site}.joblib')"
   ]
  },
  {
   "cell_type": "markdown",
   "metadata": {},
   "source": [
    "### Confusion Matrix"
   ]
  },
  {
   "cell_type": "code",
   "execution_count": 27,
   "metadata": {},
   "outputs": [
    {
     "data": {
      "text/plain": [
       "Text(0.5, 1.0, 'Jungfraujoch, Switzerland')"
      ]
     },
     "execution_count": 27,
     "metadata": {},
     "output_type": "execute_result"
    },
    {
     "data": {
      "image/png": "[encoded data removed]",
      "text/plain": [
       "<Figure size 600x600 with 2 Axes>"
      ]
     },
     "metadata": {},
     "output_type": "display_data"
    }
   ],
   "source": [
    "# creating a confusion matrix\n",
    "conf_matrix = pd.crosstab(y_test, y_pred_test, rownames=['Actual'], colnames=['Predicted'])\n",
    "\n",
    "conf_matrix.columns = ['Non-Baseline', 'Baseline']\n",
    "conf_matrix.index = ['Non-Baseline', 'Baseline']\n",
    "\n",
    "fig, ax = plt.subplots(figsize=(6, 6))\n",
    "\n",
    "sns.heatmap(conf_matrix, annot=True, fmt='d', cmap='BuPu', cbar=True, ax=ax)\n",
    "\n",
    "ax.set_xlabel('Predicted')\n",
    "ax.set_ylabel('Actual')\n",
    "\n",
    "ax.set_title(f'{site_name}')"
   ]
  },
  {
   "cell_type": "markdown",
   "metadata": {},
   "source": [
    "### Assessing Feature Importance"
   ]
  },
  {
   "cell_type": "code",
   "execution_count": 28,
   "metadata": {},
   "outputs": [],
   "source": [
    "# grouping features by category i.e. x-wind, y-wind, temporal etc.\n",
    "u_features = [col for col in data.columns if 'u' in col]\n",
    "v_features = [col for col in data.columns if 'v' in col]\n",
    "temporal_features = ['day_of_year', 'time_of_day']\n",
    "sp = ['sp']\n",
    "blh = ['blh']\n",
    "\n",
    "groups = [u_features, v_features, temporal_features, sp, blh]"
   ]
  },
  {
   "cell_type": "code",
   "execution_count": 29,
   "metadata": {},
   "outputs": [],
   "source": [
    "original_score = accuracy_score(y_train, nn_model.predict(X_train))\n",
    "importances = {}\n",
    "\n",
    "for group in groups:\n",
    "    scores_diff = []\n",
    "    for _ in range(100):\n",
    "        X_train_permuted = f.permute_group(X_train, group)\n",
    "        \n",
    "        permuted_score = accuracy_score(y_train, nn_model.predict(X_train_permuted))\n",
    "        scores_diff.append(original_score - permuted_score)\n",
    "    \n",
    "    importances[str(group)] = np.mean(scores_diff)\n",
    "\n",
    "# Sort groups by importance\n",
    "sorted_importances = sorted(importances.items(), key=lambda x: x[1], reverse=False)"
   ]
  },
  {
   "cell_type": "code",
   "execution_count": 30,
   "metadata": {},
   "outputs": [],
   "source": [
    "# matching the group names to the sorted importances\n",
    "n = len(groups)\n",
    "group_names_sorted = []\n",
    "\n",
    "for i in range(n):\n",
    "    name = sorted_importances[i][0]\n",
    "\n",
    "    if 'u10_0' in name:\n",
    "        group_names_sorted.append('u-wind')\n",
    "\n",
    "    elif 'v10_0' in name:\n",
    "        group_names_sorted.append('v-wind')\n",
    "\n",
    "    elif 'day_of_year' in name:\n",
    "        group_names_sorted.append('temporal')\n",
    "\n",
    "    elif 'sp' in name:\n",
    "        group_names_sorted.append('sp')\n",
    "\n",
    "    elif 'blh' in name:\n",
    "        group_names_sorted.append('blh')"
   ]
  },
  {
   "cell_type": "code",
   "execution_count": 31,
   "metadata": {},
   "outputs": [
    {
     "data": {
      "text/plain": [
       "Text(0, 0.5, 'Feature Group')"
      ]
     },
     "execution_count": 31,
     "metadata": {},
     "output_type": "execute_result"
    },
    {
     "data": {
      "image/png": "[encoded data removed]",
      "text/plain": [
       "<Figure size 1200x800 with 1 Axes>"
      ]
     },
     "metadata": {},
     "output_type": "display_data"
    }
   ],
   "source": [
    "# Plotting the importances of the groups\n",
    "fig, ax = plt.subplots(figsize=(12, 8))\n",
    "sns.set_theme(style='ticks', font='Arial')\n",
    "\n",
    "ax.barh(group_names_sorted, [importance for _, importance in sorted_importances], color='#FF620E')\n",
    "\n",
    "ax.set_xlabel('Importance', fontsize=12, fontstyle='italic')\n",
    "ax.set_ylabel('Feature Group', fontsize=12, fontstyle='italic')\n",
    "# ax.set_title('Permutation Importances', fontsize=14)"
   ]
  }
 ],
 "metadata": {
  "kernelspec": {
   "display_name": "venv",
   "language": "python",
   "name": "python3"
  },
  "language_info": {
   "codemirror_mode": {
    "name": "ipython",
    "version": 3
   },
   "file_extension": ".py",
   "mimetype": "text/x-python",
   "name": "python",
   "nbconvert_exporter": "python",
   "pygments_lexer": "ipython3",
   "version": "3.11.9"
  }
 },
 "nbformat": 4,
 "nbformat_minor": 2
}
