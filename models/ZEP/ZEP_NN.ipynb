{
 "cells": [
  {
   "cell_type": "markdown",
   "metadata": {},
   "source": [
    "# Neural Network Final Model - Zeppelin, Svalbard"
   ]
  },
  {
   "cell_type": "code",
   "execution_count": 1,
   "metadata": {},
   "outputs": [],
   "source": [
    "import pandas as pd\n",
    "import numpy as np\n",
    "from joblib import dump\n",
    "from pathlib import Path\n",
    "import matplotlib.pyplot as plt\n",
    "import seaborn as sns\n",
    "\n",
    "from sklearn.neural_network import MLPClassifier\n",
    "from sklearn.metrics import precision_score, recall_score, f1_score, accuracy_score\n",
    "\n",
    "import sys\n",
    "sys.path.append('../../')\n",
    "import config as cfg\n",
    "import functions as f\n",
    "\n",
    "data_path = Path.home()/'OneDrive'/'Kirstin'/'Uni'/'Year4'/'MSciProject'/'data_files'/'saved_files'"
   ]
  },
  {
   "cell_type": "code",
   "execution_count": 2,
   "metadata": {},
   "outputs": [
    {
     "name": "stdout",
     "output_type": "stream",
     "text": [
      "Creating a neural network model for \u001b[1mZeppelin, Svalbard\u001b[0;0m.\n"
     ]
    }
   ],
   "source": [
    "site = cfg.site\n",
    "site_name = cfg.site_dict[site]\n",
    "assert site == 'ZEP', 'This script is only for Zeppelin, Svalbard. The site can be changed in the config file.'\n",
    "\n",
    "compound = cfg.compound\n",
    "\n",
    "print(f\"Creating a neural network model for \\033[1m{site_name}\\033[0;0m.\")"
   ]
  },
  {
   "cell_type": "markdown",
   "metadata": {},
   "source": [
    "### Loading & Initialising Data"
   ]
  },
  {
   "cell_type": "code",
   "execution_count": 3,
   "metadata": {},
   "outputs": [
    {
     "data": {
      "text/html": [
       "<div>\n",
       "<style scoped>\n",
       "    .dataframe tbody tr th:only-of-type {\n",
       "        vertical-align: middle;\n",
       "    }\n",
       "\n",
       "    .dataframe tbody tr th {\n",
       "        vertical-align: top;\n",
       "    }\n",
       "\n",
       "    .dataframe thead th {\n",
       "        text-align: right;\n",
       "    }\n",
       "</style>\n",
       "<table border=\"1\" class=\"dataframe\">\n",
       "  <thead>\n",
       "    <tr style=\"text-align: right;\">\n",
       "      <th></th>\n",
       "      <th>time</th>\n",
       "      <th>flag</th>\n",
       "      <th>u10_0</th>\n",
       "      <th>u10_1</th>\n",
       "      <th>u10_2</th>\n",
       "      <th>u10_3</th>\n",
       "      <th>u10_4</th>\n",
       "      <th>u10_5</th>\n",
       "      <th>u10_6</th>\n",
       "      <th>u10_7</th>\n",
       "      <th>...</th>\n",
       "      <th>v500_7_past</th>\n",
       "      <th>v500_8_past</th>\n",
       "      <th>v500_9_past</th>\n",
       "      <th>v500_10_past</th>\n",
       "      <th>v500_11_past</th>\n",
       "      <th>v500_12_past</th>\n",
       "      <th>v500_13_past</th>\n",
       "      <th>v500_14_past</th>\n",
       "      <th>v500_15_past</th>\n",
       "      <th>v500_16_past</th>\n",
       "    </tr>\n",
       "  </thead>\n",
       "  <tbody>\n",
       "    <tr>\n",
       "      <th>10370</th>\n",
       "      <td>2017-01-10 09:00:00</td>\n",
       "      <td>1.0</td>\n",
       "      <td>2.732494</td>\n",
       "      <td>-4.060670</td>\n",
       "      <td>-5.790819</td>\n",
       "      <td>2.941410</td>\n",
       "      <td>2.250944</td>\n",
       "      <td>3.978029</td>\n",
       "      <td>1.258436</td>\n",
       "      <td>6.491770</td>\n",
       "      <td>...</td>\n",
       "      <td>-6.189186</td>\n",
       "      <td>-7.199900</td>\n",
       "      <td>-3.258874</td>\n",
       "      <td>-2.875867</td>\n",
       "      <td>11.558347</td>\n",
       "      <td>-13.736864</td>\n",
       "      <td>1.414729</td>\n",
       "      <td>6.685641</td>\n",
       "      <td>-5.525002</td>\n",
       "      <td>-3.239116</td>\n",
       "    </tr>\n",
       "    <tr>\n",
       "      <th>21616</th>\n",
       "      <td>2022-06-12 15:00:00</td>\n",
       "      <td>0.0</td>\n",
       "      <td>0.000519</td>\n",
       "      <td>3.591102</td>\n",
       "      <td>3.911070</td>\n",
       "      <td>-0.516942</td>\n",
       "      <td>-5.776769</td>\n",
       "      <td>-4.363193</td>\n",
       "      <td>-2.950639</td>\n",
       "      <td>-0.899168</td>\n",
       "      <td>...</td>\n",
       "      <td>-2.449142</td>\n",
       "      <td>-1.441996</td>\n",
       "      <td>-2.745506</td>\n",
       "      <td>-2.301575</td>\n",
       "      <td>-6.154308</td>\n",
       "      <td>8.497883</td>\n",
       "      <td>1.924995</td>\n",
       "      <td>7.689953</td>\n",
       "      <td>0.252567</td>\n",
       "      <td>-2.270832</td>\n",
       "    </tr>\n",
       "    <tr>\n",
       "      <th>3203</th>\n",
       "      <td>2013-08-27 13:00:00</td>\n",
       "      <td>0.0</td>\n",
       "      <td>-5.078746</td>\n",
       "      <td>-9.236614</td>\n",
       "      <td>-9.155807</td>\n",
       "      <td>-2.145220</td>\n",
       "      <td>8.322177</td>\n",
       "      <td>7.858299</td>\n",
       "      <td>9.445618</td>\n",
       "      <td>-8.903775</td>\n",
       "      <td>...</td>\n",
       "      <td>12.197190</td>\n",
       "      <td>4.447038</td>\n",
       "      <td>-4.105887</td>\n",
       "      <td>-7.768464</td>\n",
       "      <td>1.116166</td>\n",
       "      <td>1.903965</td>\n",
       "      <td>19.675530</td>\n",
       "      <td>16.653326</td>\n",
       "      <td>16.214508</td>\n",
       "      <td>-0.544663</td>\n",
       "    </tr>\n",
       "    <tr>\n",
       "      <th>15056</th>\n",
       "      <td>2019-03-07 19:00:00</td>\n",
       "      <td>1.0</td>\n",
       "      <td>-2.850923</td>\n",
       "      <td>-2.408493</td>\n",
       "      <td>-2.194883</td>\n",
       "      <td>-1.214789</td>\n",
       "      <td>-7.000779</td>\n",
       "      <td>-6.028622</td>\n",
       "      <td>-6.393677</td>\n",
       "      <td>-1.149317</td>\n",
       "      <td>...</td>\n",
       "      <td>-5.632808</td>\n",
       "      <td>-2.015914</td>\n",
       "      <td>-0.268479</td>\n",
       "      <td>-1.089789</td>\n",
       "      <td>-14.379371</td>\n",
       "      <td>-3.714853</td>\n",
       "      <td>2.046834</td>\n",
       "      <td>-2.748054</td>\n",
       "      <td>-0.883288</td>\n",
       "      <td>0.183633</td>\n",
       "    </tr>\n",
       "    <tr>\n",
       "      <th>15066</th>\n",
       "      <td>2019-03-08 15:00:00</td>\n",
       "      <td>1.0</td>\n",
       "      <td>-3.692137</td>\n",
       "      <td>-3.453397</td>\n",
       "      <td>-3.164395</td>\n",
       "      <td>-1.632089</td>\n",
       "      <td>-4.693393</td>\n",
       "      <td>-0.938353</td>\n",
       "      <td>0.386956</td>\n",
       "      <td>-1.692271</td>\n",
       "      <td>...</td>\n",
       "      <td>-7.557020</td>\n",
       "      <td>-1.715550</td>\n",
       "      <td>-2.766826</td>\n",
       "      <td>-2.668269</td>\n",
       "      <td>-7.588308</td>\n",
       "      <td>9.703010</td>\n",
       "      <td>2.215789</td>\n",
       "      <td>-11.677650</td>\n",
       "      <td>-3.007744</td>\n",
       "      <td>-2.626030</td>\n",
       "    </tr>\n",
       "  </tbody>\n",
       "</table>\n",
       "<p>5 rows × 210 columns</p>\n",
       "</div>"
      ],
      "text/plain": [
       "                     time  flag     u10_0     u10_1     u10_2     u10_3  \\\n",
       "10370 2017-01-10 09:00:00   1.0  2.732494 -4.060670 -5.790819  2.941410   \n",
       "21616 2022-06-12 15:00:00   0.0  0.000519  3.591102  3.911070 -0.516942   \n",
       "3203  2013-08-27 13:00:00   0.0 -5.078746 -9.236614 -9.155807 -2.145220   \n",
       "15056 2019-03-07 19:00:00   1.0 -2.850923 -2.408493 -2.194883 -1.214789   \n",
       "15066 2019-03-08 15:00:00   1.0 -3.692137 -3.453397 -3.164395 -1.632089   \n",
       "\n",
       "          u10_4     u10_5     u10_6     u10_7  ...  v500_7_past  v500_8_past  \\\n",
       "10370  2.250944  3.978029  1.258436  6.491770  ...    -6.189186    -7.199900   \n",
       "21616 -5.776769 -4.363193 -2.950639 -0.899168  ...    -2.449142    -1.441996   \n",
       "3203   8.322177  7.858299  9.445618 -8.903775  ...    12.197190     4.447038   \n",
       "15056 -7.000779 -6.028622 -6.393677 -1.149317  ...    -5.632808    -2.015914   \n",
       "15066 -4.693393 -0.938353  0.386956 -1.692271  ...    -7.557020    -1.715550   \n",
       "\n",
       "       v500_9_past  v500_10_past  v500_11_past  v500_12_past  v500_13_past  \\\n",
       "10370    -3.258874     -2.875867     11.558347    -13.736864      1.414729   \n",
       "21616    -2.745506     -2.301575     -6.154308      8.497883      1.924995   \n",
       "3203     -4.105887     -7.768464      1.116166      1.903965     19.675530   \n",
       "15056    -0.268479     -1.089789    -14.379371     -3.714853      2.046834   \n",
       "15066    -2.766826     -2.668269     -7.588308      9.703010      2.215789   \n",
       "\n",
       "       v500_14_past  v500_15_past  v500_16_past  \n",
       "10370      6.685641     -5.525002     -3.239116  \n",
       "21616      7.689953      0.252567     -2.270832  \n",
       "3203      16.653326     16.214508     -0.544663  \n",
       "15056     -2.748054     -0.883288      0.183633  \n",
       "15066    -11.677650     -3.007744     -2.626030  \n",
       "\n",
       "[5 rows x 210 columns]"
      ]
     },
     "execution_count": 3,
     "metadata": {},
     "output_type": "execute_result"
    }
   ],
   "source": [
    "data = pd.read_csv(data_path/f'for_model_{compound}_{site}.csv', parse_dates=['time'])\n",
    "data.sample(5)"
   ]
  },
  {
   "cell_type": "code",
   "execution_count": 4,
   "metadata": {},
   "outputs": [
    {
     "name": "stdout",
     "output_type": "stream",
     "text": [
      "Train range: 2018-01-01 01:00:00 -> 2018-12-31 23:00:00. Length: 1918\n",
      "Val range: 2019-01-01 01:00:00 -> 2019-12-31 13:00:00. Length: 2038\n",
      "Test range: 2020-01-01 05:00:00 -> 2023-12-31 21:00:00. Length: 7834\n"
     ]
    }
   ],
   "source": [
    "train_data = data[(data['time'].dt.year >= 2018) & (data['time'].dt.year <= 2018)]\n",
    "val_data = data[(data['time'].dt.year >= 2019) & (data['time'].dt.year <= 2019)]\n",
    "test_data = data[(data['time'].dt.year >= 2020) & (data['time'].dt.year <= 2023)]\n",
    "\n",
    "\n",
    "print(f\"Train range: {train_data['time'].min()} -> {train_data['time'].max()}. Length: {len(train_data)}\")\n",
    "print(f\"Val range: {val_data['time'].min()} -> {val_data['time'].max()}. Length: {len(val_data)}\")\n",
    "print(f\"Test range: {test_data['time'].min()} -> {test_data['time'].max()}. Length: {len(test_data)}\")\n",
    "\n",
    "\n",
    "# Drop the \"time\" column as it won't be used in the model\n",
    "train_data = train_data.drop(columns=['time'])\n",
    "val_data = val_data.drop(columns=['time'])\n",
    "test_data = test_data.drop(columns=['time'])\n",
    "\n",
    "# Define the features (X) and the target (y)\n",
    "X_train = train_data.drop(columns=['flag'])\n",
    "y_train = train_data['flag']\n",
    "X_val = val_data.drop(columns=['flag'])\n",
    "y_val = val_data['flag']\n",
    "X_test = test_data.drop(columns=['flag'])\n",
    "y_test = test_data['flag']\n",
    "\n",
    "# Balanced Data - removing NaN values and associated data\n",
    "y_train = y_train.dropna()\n",
    "y_val = y_val.dropna()\n",
    "y_test = y_test.dropna()\n",
    "\n",
    "# aligning indices of features sets\n",
    "X_train = X_train.loc[y_train.index]\n",
    "X_val = X_val.loc[y_val.index]\n",
    "X_test = X_test.loc[y_test.index]"
   ]
  },
  {
   "cell_type": "markdown",
   "metadata": {},
   "source": [
    "### Model"
   ]
  },
  {
   "cell_type": "code",
   "execution_count": 5,
   "metadata": {},
   "outputs": [
    {
     "name": "stdout",
     "output_type": "stream",
     "text": [
      "Precision on Training Set = 0.873\n",
      "Precision on Validation Set = 0.831\n",
      "Recall on Training Set = 0.930\n",
      "Recall on Validation Set = 0.974\n",
      "F1 Score on Training Set = 0.901\n",
      "F1 Score on Validation Set = 0.897\n",
      "Misclassification Rate on Training Set = 0.158\n",
      "Misclassification Rate on Validation Set = 0.179\n"
     ]
    }
   ],
   "source": [
    "nn_model = MLPClassifier(random_state=42,\n",
    "                         max_iter=1000, \n",
    "                         hidden_layer_sizes=(200,150,), \n",
    "                         shuffle=False,\n",
    "                         activation='relu', \n",
    "                         solver='adam', \n",
    "                         alpha=0.05, \n",
    "                         learning_rate='constant', \n",
    "                         batch_size=100, \n",
    "                         early_stopping=True,\n",
    "                         learning_rate_init=0.01,\n",
    "                         beta_2=0.9,)\n",
    "\n",
    "nn_model.fit(X_train, y_train)\n",
    "\n",
    "class_probabilities_val = nn_model.predict_proba(X_val)\n",
    "class_probabilities_train = nn_model.predict_proba(X_train)\n",
    "\n",
    "confidence_threshold = cfg.confidence_threshold\n",
    "\n",
    "y_pred_val = (class_probabilities_val[:,1] > confidence_threshold).astype(int)\n",
    "y_pred_train = (class_probabilities_train[:,1] > confidence_threshold).astype(int)\n",
    "\n",
    "precision_val = precision_score(y_val, y_pred_val)\n",
    "precision_train = precision_score(y_train, y_pred_train)\n",
    "recall_val = recall_score(y_val, y_pred_val)\n",
    "recall_train = recall_score(y_train, y_pred_train)\n",
    "f1_val = f1_score(y_val, y_pred_val)\n",
    "f1_train = f1_score(y_train, y_pred_train)\n",
    "misclassification_rate_val = 1 - accuracy_score(y_val, y_pred_val)\n",
    "misclassification_rate_train = 1 - accuracy_score(y_train, y_pred_train)\n",
    "\n",
    "print(f\"Precision on Training Set = {precision_train:.3f}\")\n",
    "print(f\"Precision on Validation Set = {precision_val:.3f}\")\n",
    "print(f\"Recall on Training Set = {recall_train:.3f}\")\n",
    "print(f\"Recall on Validation Set = {recall_val:.3f}\")\n",
    "print(f\"F1 Score on Training Set = {f1_train:.3f}\")\n",
    "print(f\"F1 Score on Validation Set = {f1_val:.3f}\")\n",
    "print(f\"Misclassification Rate on Training Set = {misclassification_rate_train:.3f}\")\n",
    "print(f\"Misclassification Rate on Validation Set = {misclassification_rate_val:.3f}\")"
   ]
  },
  {
   "cell_type": "code",
   "execution_count": 6,
   "metadata": {},
   "outputs": [
    {
     "name": "stdout",
     "output_type": "stream",
     "text": [
      "Precision on Testing Set = 0.844\n",
      "Recall on Testing Set = 0.928\n",
      "F1 Score on Testing Set = 0.884\n",
      "Misclassification Rate on Testing Set = 0.191\n"
     ]
    }
   ],
   "source": [
    "class_probabilities_test = nn_model.predict_proba(X_test)\n",
    "\n",
    "y_pred_test = (class_probabilities_test[:,1] > confidence_threshold).astype(int)\n",
    "\n",
    "precision_test = precision_score(y_test, y_pred_test)\n",
    "recall_test = recall_score(y_test, y_pred_test)\n",
    "f1_test = f1_score(y_test, y_pred_test)\n",
    "misclassification_rate_test = 1 - accuracy_score(y_test, y_pred_test)\n",
    "\n",
    "print(f\"Precision on Testing Set = {precision_test:.3f}\")\n",
    "print(f\"Recall on Testing Set = {recall_test:.3f}\")\n",
    "print(f\"F1 Score on Testing Set = {f1_test:.3f}\")\n",
    "print(f\"Misclassification Rate on Testing Set = {misclassification_rate_test:.3f}\")"
   ]
  },
  {
   "cell_type": "code",
   "execution_count": 7,
   "metadata": {},
   "outputs": [
    {
     "data": {
      "text/plain": [
       "['../model_files/nn_model_ZEP.joblib']"
      ]
     },
     "execution_count": 7,
     "metadata": {},
     "output_type": "execute_result"
    }
   ],
   "source": [
    "# saving the model\n",
    "dump(nn_model, data_path/f'nn_model_{site}.joblib')\n",
    "dump(nn_model, f'../model_files/nn_model_{site}.joblib')"
   ]
  },
  {
   "cell_type": "markdown",
   "metadata": {},
   "source": [
    "### Confusion Matrix"
   ]
  },
  {
   "cell_type": "code",
   "execution_count": 8,
   "metadata": {},
   "outputs": [
    {
     "data": {
      "text/plain": [
       "Text(0.5, 1.0, 'Zeppelin, Svalbard')"
      ]
     },
     "execution_count": 8,
     "metadata": {},
     "output_type": "execute_result"
    },
    {
     "data": {
      "image/png": "[encoded data removed]",
      "text/plain": [
       "<Figure size 600x600 with 2 Axes>"
      ]
     },
     "metadata": {},
     "output_type": "display_data"
    }
   ],
   "source": [
    "# creating a confusion matrix\n",
    "conf_matrix = pd.crosstab(y_test, y_pred_test, rownames=['Actual'], colnames=['Predicted'])\n",
    "\n",
    "conf_matrix.columns = ['Non-Baseline', 'Baseline']\n",
    "conf_matrix.index = ['Non-Baseline', 'Baseline']\n",
    "\n",
    "fig, ax = plt.subplots(figsize=(6, 6))\n",
    "\n",
    "sns.heatmap(conf_matrix, annot=True, fmt='d', cmap='BuPu', cbar=True, ax=ax)\n",
    "\n",
    "ax.set_xlabel('Predicted')\n",
    "ax.set_ylabel('Actual')\n",
    "\n",
    "ax.set_title(f'{site_name}')"
   ]
  },
  {
   "cell_type": "markdown",
   "metadata": {},
   "source": [
    "### Assessing Feature Importance"
   ]
  },
  {
   "cell_type": "code",
   "execution_count": 9,
   "metadata": {},
   "outputs": [],
   "source": [
    "# grouping features by category i.e. x-wind, y-wind, temporal etc.\n",
    "u_features = [col for col in data.columns if 'u' in col]\n",
    "v_features = [col for col in data.columns if 'v' in col]\n",
    "temporal_features = ['day_of_year', 'time_of_day']\n",
    "sp = ['sp']\n",
    "blh = ['blh']\n",
    "\n",
    "groups = [u_features, v_features, temporal_features, sp, blh]"
   ]
  },
  {
   "cell_type": "code",
   "execution_count": 10,
   "metadata": {},
   "outputs": [],
   "source": [
    "original_score = accuracy_score(y_train, nn_model.predict(X_train))\n",
    "importances = {}\n",
    "\n",
    "for group in groups:\n",
    "    scores_diff = []\n",
    "    for _ in range(100):\n",
    "        X_train_permuted = f.permute_group(X_train, group)\n",
    "        \n",
    "        permuted_score = accuracy_score(y_train, nn_model.predict(X_train_permuted))\n",
    "        scores_diff.append(original_score - permuted_score)\n",
    "    \n",
    "    importances[str(group)] = np.mean(scores_diff)\n",
    "\n",
    "# Sort groups by importance\n",
    "sorted_importances = sorted(importances.items(), key=lambda x: x[1], reverse=False)"
   ]
  },
  {
   "cell_type": "code",
   "execution_count": 11,
   "metadata": {},
   "outputs": [],
   "source": [
    "# matching the group names to the sorted importances\n",
    "n = len(groups)\n",
    "group_names_sorted = []\n",
    "\n",
    "for i in range(n):\n",
    "    name = sorted_importances[i][0]\n",
    "\n",
    "    if 'u10_0' in name:\n",
    "        group_names_sorted.append('u-wind')\n",
    "\n",
    "    elif 'v10_0' in name:\n",
    "        group_names_sorted.append('v-wind')\n",
    "\n",
    "    elif 'day_of_year' in name:\n",
    "        group_names_sorted.append('temporal')\n",
    "\n",
    "    elif 'sp' in name:\n",
    "        group_names_sorted.append('sp')\n",
    "\n",
    "    elif 'blh' in name:\n",
    "        group_names_sorted.append('blh')"
   ]
  },
  {
   "cell_type": "code",
   "execution_count": 12,
   "metadata": {},
   "outputs": [
    {
     "data": {
      "text/plain": [
       "Text(0, 0.5, 'Feature Group')"
      ]
     },
     "execution_count": 12,
     "metadata": {},
     "output_type": "execute_result"
    },
    {
     "data": {
      "image/png": "[encoded data removed]",
      "text/plain": [
       "<Figure size 1200x800 with 1 Axes>"
      ]
     },
     "metadata": {},
     "output_type": "display_data"
    }
   ],
   "source": [
    "# Plotting the importances of the groups\n",
    "fig, ax = plt.subplots(figsize=(12, 8))\n",
    "sns.set_theme(style='ticks', font='Arial')\n",
    "\n",
    "ax.barh(group_names_sorted, [importance for _, importance in sorted_importances], color='#FF620E')\n",
    "\n",
    "ax.set_xlabel('Importance', fontsize=12, fontstyle='italic')\n",
    "ax.set_ylabel('Feature Group', fontsize=12, fontstyle='italic')\n",
    "# ax.set_title('Permutation Importances', fontsize=14)"
   ]
  }
 ],
 "metadata": {
  "kernelspec": {
   "display_name": "venv",
   "language": "python",
   "name": "python3"
  },
  "language_info": {
   "codemirror_mode": {
    "name": "ipython",
    "version": 3
   },
   "file_extension": ".py",
   "mimetype": "text/x-python",
   "name": "python",
   "nbconvert_exporter": "python",
   "pygments_lexer": "ipython3",
   "version": "3.11.9"
  }
 },
 "nbformat": 4,
 "nbformat_minor": 2
}
