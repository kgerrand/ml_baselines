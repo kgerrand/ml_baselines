{
 "cells": [
  {
   "cell_type": "markdown",
   "metadata": {},
   "source": [
    "# Neural Network Final Model - Gosan, South Korea"
   ]
  },
  {
   "cell_type": "code",
   "execution_count": 1,
   "metadata": {},
   "outputs": [],
   "source": [
    "import pandas as pd\n",
    "import numpy as np\n",
    "from joblib import dump\n",
    "from pathlib import Path\n",
    "import matplotlib.pyplot as plt\n",
    "import seaborn as sns\n",
    "\n",
    "from sklearn.neural_network import MLPClassifier\n",
    "from sklearn.metrics import precision_score, recall_score, f1_score, accuracy_score\n",
    "\n",
    "import sys\n",
    "sys.path.append('../../')\n",
    "import config as cfg\n",
    "import functions as f\n",
    "\n",
    "data_path = Path.home()/'OneDrive'/'Kirstin'/'Uni'/'Year4'/'MSciProject'/'data_files'/'saved_files'"
   ]
  },
  {
   "cell_type": "code",
   "execution_count": 2,
   "metadata": {},
   "outputs": [
    {
     "name": "stdout",
     "output_type": "stream",
     "text": [
      "Creating a neural network model for \u001b[1mGosan, South Korea\u001b[0;0m.\n"
     ]
    }
   ],
   "source": [
    "site = cfg.site\n",
    "site_name = cfg.site_dict[site]\n",
    "assert site == 'GSN', 'This script is only for Gosan, South Korea. The site can be changed in the config file.'\n",
    "\n",
    "compound = cfg.compound\n",
    "\n",
    "print(f\"Creating a neural network model for \\033[1m{site_name}\\033[0;0m.\")"
   ]
  },
  {
   "cell_type": "markdown",
   "metadata": {},
   "source": [
    "### Loading & Initialising Data"
   ]
  },
  {
   "cell_type": "code",
   "execution_count": 3,
   "metadata": {},
   "outputs": [
    {
     "data": {
      "text/html": [
       "<div>\n",
       "<style scoped>\n",
       "    .dataframe tbody tr th:only-of-type {\n",
       "        vertical-align: middle;\n",
       "    }\n",
       "\n",
       "    .dataframe tbody tr th {\n",
       "        vertical-align: top;\n",
       "    }\n",
       "\n",
       "    .dataframe thead th {\n",
       "        text-align: right;\n",
       "    }\n",
       "</style>\n",
       "<table border=\"1\" class=\"dataframe\">\n",
       "  <thead>\n",
       "    <tr style=\"text-align: right;\">\n",
       "      <th></th>\n",
       "      <th>time</th>\n",
       "      <th>flag</th>\n",
       "      <th>u10_0</th>\n",
       "      <th>u10_1</th>\n",
       "      <th>u10_2</th>\n",
       "      <th>u10_3</th>\n",
       "      <th>u10_4</th>\n",
       "      <th>u10_5</th>\n",
       "      <th>u10_6</th>\n",
       "      <th>u10_7</th>\n",
       "      <th>...</th>\n",
       "      <th>v500_7_past</th>\n",
       "      <th>v500_8_past</th>\n",
       "      <th>v500_9_past</th>\n",
       "      <th>v500_10_past</th>\n",
       "      <th>v500_11_past</th>\n",
       "      <th>v500_12_past</th>\n",
       "      <th>v500_13_past</th>\n",
       "      <th>v500_14_past</th>\n",
       "      <th>v500_15_past</th>\n",
       "      <th>v500_16_past</th>\n",
       "    </tr>\n",
       "  </thead>\n",
       "  <tbody>\n",
       "    <tr>\n",
       "      <th>2884</th>\n",
       "      <td>2010-03-21 05:00:00</td>\n",
       "      <td>1.0</td>\n",
       "      <td>3.460882</td>\n",
       "      <td>6.358258</td>\n",
       "      <td>8.401132</td>\n",
       "      <td>5.228499</td>\n",
       "      <td>5.615238</td>\n",
       "      <td>-0.900697</td>\n",
       "      <td>-4.033679</td>\n",
       "      <td>-1.863233</td>\n",
       "      <td>...</td>\n",
       "      <td>-5.890999</td>\n",
       "      <td>-9.524070</td>\n",
       "      <td>-11.658563</td>\n",
       "      <td>0.434056</td>\n",
       "      <td>-5.379539</td>\n",
       "      <td>4.841136</td>\n",
       "      <td>-0.604208</td>\n",
       "      <td>-0.752531</td>\n",
       "      <td>-4.068497</td>\n",
       "      <td>-11.223822</td>\n",
       "    </tr>\n",
       "    <tr>\n",
       "      <th>7128</th>\n",
       "      <td>2013-12-22 13:00:00</td>\n",
       "      <td>1.0</td>\n",
       "      <td>2.498072</td>\n",
       "      <td>0.106608</td>\n",
       "      <td>-2.336640</td>\n",
       "      <td>1.194653</td>\n",
       "      <td>0.176634</td>\n",
       "      <td>-1.421010</td>\n",
       "      <td>-0.937892</td>\n",
       "      <td>-0.534803</td>\n",
       "      <td>...</td>\n",
       "      <td>2.156797</td>\n",
       "      <td>3.680151</td>\n",
       "      <td>-2.931546</td>\n",
       "      <td>-24.239132</td>\n",
       "      <td>-11.733822</td>\n",
       "      <td>3.895697</td>\n",
       "      <td>2.652069</td>\n",
       "      <td>2.279101</td>\n",
       "      <td>-3.040530</td>\n",
       "      <td>-8.493363</td>\n",
       "    </tr>\n",
       "    <tr>\n",
       "      <th>10158</th>\n",
       "      <td>2017-03-04 11:00:00</td>\n",
       "      <td>1.0</td>\n",
       "      <td>0.105830</td>\n",
       "      <td>2.151116</td>\n",
       "      <td>-7.755313</td>\n",
       "      <td>0.863829</td>\n",
       "      <td>-1.684038</td>\n",
       "      <td>-3.105832</td>\n",
       "      <td>-1.451443</td>\n",
       "      <td>-3.518580</td>\n",
       "      <td>...</td>\n",
       "      <td>-3.472736</td>\n",
       "      <td>-4.304173</td>\n",
       "      <td>-5.023482</td>\n",
       "      <td>-10.756802</td>\n",
       "      <td>-0.693875</td>\n",
       "      <td>3.065574</td>\n",
       "      <td>-6.574229</td>\n",
       "      <td>1.328653</td>\n",
       "      <td>4.893466</td>\n",
       "      <td>-7.194104</td>\n",
       "    </tr>\n",
       "    <tr>\n",
       "      <th>5810</th>\n",
       "      <td>2012-10-30 13:00:00</td>\n",
       "      <td>1.0</td>\n",
       "      <td>1.699142</td>\n",
       "      <td>1.485898</td>\n",
       "      <td>-4.117174</td>\n",
       "      <td>0.810023</td>\n",
       "      <td>2.581935</td>\n",
       "      <td>-3.772912</td>\n",
       "      <td>0.825384</td>\n",
       "      <td>2.428327</td>\n",
       "      <td>...</td>\n",
       "      <td>-5.002613</td>\n",
       "      <td>-0.993600</td>\n",
       "      <td>4.449601</td>\n",
       "      <td>-3.298363</td>\n",
       "      <td>-15.145922</td>\n",
       "      <td>-11.740776</td>\n",
       "      <td>0.257750</td>\n",
       "      <td>5.804950</td>\n",
       "      <td>-0.678246</td>\n",
       "      <td>-5.312934</td>\n",
       "    </tr>\n",
       "    <tr>\n",
       "      <th>11451</th>\n",
       "      <td>2018-07-23 03:00:00</td>\n",
       "      <td>1.0</td>\n",
       "      <td>-3.760465</td>\n",
       "      <td>1.114869</td>\n",
       "      <td>-0.170139</td>\n",
       "      <td>-0.454549</td>\n",
       "      <td>-3.432877</td>\n",
       "      <td>-7.680256</td>\n",
       "      <td>0.377092</td>\n",
       "      <td>-3.744508</td>\n",
       "      <td>...</td>\n",
       "      <td>10.394228</td>\n",
       "      <td>1.699107</td>\n",
       "      <td>4.205110</td>\n",
       "      <td>-7.245603</td>\n",
       "      <td>-3.682221</td>\n",
       "      <td>-7.412557</td>\n",
       "      <td>11.841166</td>\n",
       "      <td>4.952189</td>\n",
       "      <td>-11.126028</td>\n",
       "      <td>1.857630</td>\n",
       "    </tr>\n",
       "  </tbody>\n",
       "</table>\n",
       "<p>5 rows × 210 columns</p>\n",
       "</div>"
      ],
      "text/plain": [
       "                     time  flag     u10_0     u10_1     u10_2     u10_3  \\\n",
       "2884  2010-03-21 05:00:00   1.0  3.460882  6.358258  8.401132  5.228499   \n",
       "7128  2013-12-22 13:00:00   1.0  2.498072  0.106608 -2.336640  1.194653   \n",
       "10158 2017-03-04 11:00:00   1.0  0.105830  2.151116 -7.755313  0.863829   \n",
       "5810  2012-10-30 13:00:00   1.0  1.699142  1.485898 -4.117174  0.810023   \n",
       "11451 2018-07-23 03:00:00   1.0 -3.760465  1.114869 -0.170139 -0.454549   \n",
       "\n",
       "          u10_4     u10_5     u10_6     u10_7  ...  v500_7_past  v500_8_past  \\\n",
       "2884   5.615238 -0.900697 -4.033679 -1.863233  ...    -5.890999    -9.524070   \n",
       "7128   0.176634 -1.421010 -0.937892 -0.534803  ...     2.156797     3.680151   \n",
       "10158 -1.684038 -3.105832 -1.451443 -3.518580  ...    -3.472736    -4.304173   \n",
       "5810   2.581935 -3.772912  0.825384  2.428327  ...    -5.002613    -0.993600   \n",
       "11451 -3.432877 -7.680256  0.377092 -3.744508  ...    10.394228     1.699107   \n",
       "\n",
       "       v500_9_past  v500_10_past  v500_11_past  v500_12_past  v500_13_past  \\\n",
       "2884    -11.658563      0.434056     -5.379539      4.841136     -0.604208   \n",
       "7128     -2.931546    -24.239132    -11.733822      3.895697      2.652069   \n",
       "10158    -5.023482    -10.756802     -0.693875      3.065574     -6.574229   \n",
       "5810      4.449601     -3.298363    -15.145922    -11.740776      0.257750   \n",
       "11451     4.205110     -7.245603     -3.682221     -7.412557     11.841166   \n",
       "\n",
       "       v500_14_past  v500_15_past  v500_16_past  \n",
       "2884      -0.752531     -4.068497    -11.223822  \n",
       "7128       2.279101     -3.040530     -8.493363  \n",
       "10158      1.328653      4.893466     -7.194104  \n",
       "5810       5.804950     -0.678246     -5.312934  \n",
       "11451      4.952189    -11.126028      1.857630  \n",
       "\n",
       "[5 rows x 210 columns]"
      ]
     },
     "execution_count": 3,
     "metadata": {},
     "output_type": "execute_result"
    }
   ],
   "source": [
    "data = pd.read_csv(data_path/f'for_model_{compound}_{site}.csv', parse_dates=['time'])\n",
    "data.sample(5)"
   ]
  },
  {
   "cell_type": "code",
   "execution_count": 4,
   "metadata": {},
   "outputs": [
    {
     "name": "stdout",
     "output_type": "stream",
     "text": [
      "Train range: 2013-01-01 13:00:00 -> 2013-12-30 11:00:00. Length: 1066\n",
      "Val range: 2014-01-02 09:00:00 -> 2014-12-31 23:00:00. Length: 915\n",
      "Test range: 2015-01-01 01:00:00 -> 2017-12-31 23:00:00. Length: 2808\n"
     ]
    }
   ],
   "source": [
    "train_data = data[(data['time'].dt.year >= 2013) & (data['time'].dt.year <= 2013)]\n",
    "val_data = data[(data['time'].dt.year >= 2014) & (data['time'].dt.year <= 2014)]\n",
    "test_data = data[(data['time'].dt.year >= 2015) & (data['time'].dt.year <= 2017)]\n",
    "\n",
    "print(f\"Train range: {train_data['time'].min()} -> {train_data['time'].max()}. Length: {len(train_data)}\")\n",
    "print(f\"Val range: {val_data['time'].min()} -> {val_data['time'].max()}. Length: {len(val_data)}\")\n",
    "print(f\"Test range: {test_data['time'].min()} -> {test_data['time'].max()}. Length: {len(test_data)}\")\n",
    "\n",
    "\n",
    "# Drop the \"time\" column as it won't be used in the model\n",
    "train_data = train_data.drop(columns=['time'])\n",
    "val_data = val_data.drop(columns=['time'])\n",
    "test_data = test_data.drop(columns=['time'])\n",
    "\n",
    "# Define the features (X) and the target (y)\n",
    "X_train = train_data.drop(columns=['flag'])\n",
    "y_train = train_data['flag']\n",
    "X_val = val_data.drop(columns=['flag'])\n",
    "y_val = val_data['flag']\n",
    "X_test = test_data.drop(columns=['flag'])\n",
    "y_test = test_data['flag']\n",
    "\n",
    "# Balanced Data - removing NaN values and associated data\n",
    "y_train = y_train.dropna()\n",
    "y_val = y_val.dropna()\n",
    "y_test = y_test.dropna()\n",
    "\n",
    "# aligning indices of features sets\n",
    "X_train = X_train.loc[y_train.index]\n",
    "X_val = X_val.loc[y_val.index]\n",
    "X_test = X_test.loc[y_test.index]"
   ]
  },
  {
   "cell_type": "markdown",
   "metadata": {},
   "source": [
    "### Model"
   ]
  },
  {
   "cell_type": "code",
   "execution_count": 5,
   "metadata": {},
   "outputs": [
    {
     "name": "stdout",
     "output_type": "stream",
     "text": [
      "Precision on Training Set = 0.885\n",
      "Precision on Validation Set = 0.866\n",
      "Recall on Training Set = 0.762\n",
      "Recall on Validation Set = 0.814\n",
      "F1 Score on Training Set = 0.819\n",
      "F1 Score on Validation Set = 0.839\n",
      "Misclassification Rate on Training Set = 0.268\n",
      "Misclassification Rate on Validation Set = 0.235\n"
     ]
    }
   ],
   "source": [
    "nn_model = MLPClassifier(random_state=42,\n",
    "                         max_iter=1000, \n",
    "                         hidden_layer_sizes=(100,), \n",
    "                         shuffle=False,\n",
    "                         activation='relu', \n",
    "                         solver='adam', \n",
    "                         alpha=0.0001, \n",
    "                         learning_rate='constant', \n",
    "                         batch_size=100, \n",
    "                         early_stopping=False,\n",
    "                         learning_rate_init=0.01,\n",
    "                         beta_2=0.9,)\n",
    "\n",
    "nn_model.fit(X_train, y_train)\n",
    "\n",
    "class_probabilities_val = nn_model.predict_proba(X_val)\n",
    "class_probabilities_train = nn_model.predict_proba(X_train)\n",
    "\n",
    "confidence_threshold = cfg.confidence_threshold\n",
    "\n",
    "y_pred_val = (class_probabilities_val[:,1] > confidence_threshold).astype(int)\n",
    "y_pred_train = (class_probabilities_train[:,1] > confidence_threshold).astype(int)\n",
    "\n",
    "precision_val = precision_score(y_val, y_pred_val)\n",
    "precision_train = precision_score(y_train, y_pred_train)\n",
    "recall_val = recall_score(y_val, y_pred_val)\n",
    "recall_train = recall_score(y_train, y_pred_train)\n",
    "f1_val = f1_score(y_val, y_pred_val)\n",
    "f1_train = f1_score(y_train, y_pred_train)\n",
    "misclassification_rate_val = 1 - accuracy_score(y_val, y_pred_val)\n",
    "misclassification_rate_train = 1 - accuracy_score(y_train, y_pred_train)\n",
    "\n",
    "print(f\"Precision on Training Set = {precision_train:.3f}\")\n",
    "print(f\"Precision on Validation Set = {precision_val:.3f}\")\n",
    "print(f\"Recall on Training Set = {recall_train:.3f}\")\n",
    "print(f\"Recall on Validation Set = {recall_val:.3f}\")\n",
    "print(f\"F1 Score on Training Set = {f1_train:.3f}\")\n",
    "print(f\"F1 Score on Validation Set = {f1_val:.3f}\")\n",
    "print(f\"Misclassification Rate on Training Set = {misclassification_rate_train:.3f}\")\n",
    "print(f\"Misclassification Rate on Validation Set = {misclassification_rate_val:.3f}\")"
   ]
  },
  {
   "cell_type": "code",
   "execution_count": 6,
   "metadata": {},
   "outputs": [
    {
     "name": "stdout",
     "output_type": "stream",
     "text": [
      "Precision on Testing Set = 0.886\n",
      "Recall on Testing Set = 0.819\n",
      "F1 Score on Testing Set = 0.851\n",
      "Misclassification Rate on Testing Set = 0.218\n"
     ]
    }
   ],
   "source": [
    "# evaluating model on test set\n",
    "class_probabilities_test = nn_model.predict_proba(X_test)\n",
    "\n",
    "y_pred_test = (class_probabilities_test[:,1] > confidence_threshold).astype(int)\n",
    "\n",
    "precision_test = precision_score(y_test, y_pred_test)\n",
    "recall_test = recall_score(y_test, y_pred_test)\n",
    "f1_test = f1_score(y_test, y_pred_test)\n",
    "misclassification_rate_test = 1 - accuracy_score(y_test, y_pred_test)\n",
    "\n",
    "print(f\"Precision on Testing Set = {precision_test:.3f}\")\n",
    "print(f\"Recall on Testing Set = {recall_test:.3f}\")\n",
    "print(f\"F1 Score on Testing Set = {f1_test:.3f}\")\n",
    "print(f\"Misclassification Rate on Testing Set = {misclassification_rate_test:.3f}\")"
   ]
  },
  {
   "cell_type": "code",
   "execution_count": 7,
   "metadata": {},
   "outputs": [
    {
     "data": {
      "text/plain": [
       "['../model_files/nn_model_GSN.joblib']"
      ]
     },
     "execution_count": 7,
     "metadata": {},
     "output_type": "execute_result"
    }
   ],
   "source": [
    "# saving the model\n",
    "dump(nn_model, data_path/f'nn_model_GSN.joblib')\n",
    "dump(nn_model, f'../model_files/nn_model_{site}.joblib')"
   ]
  },
  {
   "cell_type": "markdown",
   "metadata": {},
   "source": [
    "### Confusion Matrix"
   ]
  },
  {
   "cell_type": "code",
   "execution_count": 8,
   "metadata": {},
   "outputs": [
    {
     "data": {
      "text/plain": [
       "Text(0.5, 1.0, 'Gosan, South Korea')"
      ]
     },
     "execution_count": 8,
     "metadata": {},
     "output_type": "execute_result"
    },
    {
     "data": {
      "image/png": "[encoded data removed]",
      "text/plain": [
       "<Figure size 800x300 with 2 Axes>"
      ]
     },
     "metadata": {},
     "output_type": "display_data"
    }
   ],
   "source": [
    "# creating a confusion matrix\n",
    "conf_matrix = pd.crosstab(y_test, y_pred_test, rownames=['Actual'], colnames=['Predicted'])\n",
    "\n",
    "conf_matrix.columns = ['Non-Baseline', 'Baseline']\n",
    "conf_matrix.index = ['Non-Baseline', 'Baseline']\n",
    "\n",
    "fig, ax = plt.subplots(figsize=(8,3))\n",
    "sns.set(font_scale=1.2)\n",
    "sns.set_theme(style='ticks', font='Arial')\n",
    "\n",
    "sns.heatmap(conf_matrix, annot=True, fmt='d', cmap='BuPu', cbar=True, ax=ax)\n",
    "\n",
    "ax.set_xlabel('Predicted')\n",
    "ax.set_ylabel('Actual')\n",
    "\n",
    "ax.set_title(f'{site_name}')"
   ]
  },
  {
   "cell_type": "markdown",
   "metadata": {},
   "source": [
    "### Assessing Feature Importance"
   ]
  },
  {
   "cell_type": "code",
   "execution_count": 9,
   "metadata": {},
   "outputs": [],
   "source": [
    "# grouping features by category i.e. x-wind, y-wind, temporal etc.\n",
    "u_features = [col for col in data.columns if 'u' in col]\n",
    "v_features = [col for col in data.columns if 'v' in col]\n",
    "temporal_features = ['day_of_year', 'time_of_day']\n",
    "sp = ['sp']\n",
    "blh = ['blh']\n",
    "\n",
    "groups = [u_features, v_features, temporal_features, sp, blh]"
   ]
  },
  {
   "cell_type": "code",
   "execution_count": 10,
   "metadata": {},
   "outputs": [],
   "source": [
    "original_score = accuracy_score(y_train, nn_model.predict(X_train))\n",
    "importances = {}\n",
    "\n",
    "for group in groups:\n",
    "    scores_diff = []\n",
    "    for _ in range(100):\n",
    "        X_train_permuted = f.permute_group(X_train, group)\n",
    "        \n",
    "        permuted_score = accuracy_score(y_train, nn_model.predict(X_train_permuted))\n",
    "        scores_diff.append(original_score - permuted_score)\n",
    "    \n",
    "    importances[str(group)] = np.mean(scores_diff)\n",
    "\n",
    "# Sort groups by importance\n",
    "sorted_importances = sorted(importances.items(), key=lambda x: x[1], reverse=False)"
   ]
  },
  {
   "cell_type": "code",
   "execution_count": 11,
   "metadata": {},
   "outputs": [],
   "source": [
    "# matching the group names to the sorted importances\n",
    "n = len(groups)\n",
    "group_names_sorted = []\n",
    "\n",
    "for i in range(n):\n",
    "    name = sorted_importances[i][0]\n",
    "\n",
    "    if 'u10_0' in name:\n",
    "        group_names_sorted.append('u-wind')\n",
    "\n",
    "    elif 'v10_0' in name:\n",
    "        group_names_sorted.append('v-wind')\n",
    "\n",
    "    elif 'day_of_year' in name:\n",
    "        group_names_sorted.append('temporal')\n",
    "\n",
    "    elif 'sp' in name:\n",
    "        group_names_sorted.append('sp')\n",
    "\n",
    "    elif 'blh' in name:\n",
    "        group_names_sorted.append('blh')"
   ]
  },
  {
   "cell_type": "code",
   "execution_count": 12,
   "metadata": {},
   "outputs": [
    {
     "data": {
      "text/plain": [
       "Text(0, 0.5, 'Feature Group')"
      ]
     },
     "execution_count": 12,
     "metadata": {},
     "output_type": "execute_result"
    },
    {
     "data": {
      "image/png": "[encoded data removed]",
      "text/plain": [
       "<Figure size 1200x800 with 1 Axes>"
      ]
     },
     "metadata": {},
     "output_type": "display_data"
    }
   ],
   "source": [
    "# Plotting the importances of the groups\n",
    "fig, ax = plt.subplots(figsize=(12, 8))\n",
    "sns.set_theme(style='ticks', font='Arial')\n",
    "\n",
    "ax.barh(group_names_sorted, [importance for _, importance in sorted_importances], color='#FF620E')\n",
    "\n",
    "ax.set_xlabel('Importance', fontsize=12, fontstyle='italic')\n",
    "ax.set_ylabel('Feature Group', fontsize=12, fontstyle='italic')\n",
    "# ax.set_title('Permutation Importances', fontsize=14)"
   ]
  }
 ],
 "metadata": {
  "kernelspec": {
   "display_name": "venv",
   "language": "python",
   "name": "python3"
  },
  "language_info": {
   "codemirror_mode": {
    "name": "ipython",
    "version": 3
   },
   "file_extension": ".py",
   "mimetype": "text/x-python",
   "name": "python",
   "nbconvert_exporter": "python",
   "pygments_lexer": "ipython3",
   "version": "3.11.9"
  }
 },
 "nbformat": 4,
 "nbformat_minor": 2
}
