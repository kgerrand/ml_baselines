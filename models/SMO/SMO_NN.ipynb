{
 "cells": [
  {
   "cell_type": "markdown",
   "metadata": {},
   "source": [
    "# Neural Network Final Model - Cape Matatula, American Samoa"
   ]
  },
  {
   "cell_type": "code",
   "execution_count": 1,
   "metadata": {},
   "outputs": [],
   "source": [
    "import pandas as pd\n",
    "import numpy as np\n",
    "from joblib import dump\n",
    "from pathlib import Path\n",
    "import matplotlib.pyplot as plt\n",
    "import seaborn as sns\n",
    "\n",
    "from sklearn.neural_network import MLPClassifier\n",
    "from sklearn.metrics import precision_score, recall_score, f1_score, accuracy_score\n",
    "\n",
    "import sys\n",
    "sys.path.append('../../')\n",
    "import config as cfg\n",
    "import functions as f\n",
    "\n",
    "data_path = Path.home()/'OneDrive'/'Kirstin'/'Uni'/'Year4'/'MSciProject'/'data_files'/'saved_files'"
   ]
  },
  {
   "cell_type": "code",
   "execution_count": 2,
   "metadata": {},
   "outputs": [
    {
     "name": "stdout",
     "output_type": "stream",
     "text": [
      "Creating a neural network model for \u001b[1mCape Matatula, American Samoa\u001b[0;0m.\n"
     ]
    }
   ],
   "source": [
    "site = cfg.site\n",
    "site_name = cfg.site_dict[site]\n",
    "assert site == 'SMO', 'This script is only for Cape Matatula, American Samoa. The site can be changed in the config file.'\n",
    "\n",
    "compound = cfg.compound\n",
    "\n",
    "print(f\"Creating a neural network model for \\033[1m{site_name}\\033[0;0m.\")"
   ]
  },
  {
   "cell_type": "markdown",
   "metadata": {},
   "source": [
    "### Loading & Initialising Data"
   ]
  },
  {
   "cell_type": "code",
   "execution_count": 3,
   "metadata": {},
   "outputs": [
    {
     "data": {
      "text/html": [
       "<div>\n",
       "<style scoped>\n",
       "    .dataframe tbody tr th:only-of-type {\n",
       "        vertical-align: middle;\n",
       "    }\n",
       "\n",
       "    .dataframe tbody tr th {\n",
       "        vertical-align: top;\n",
       "    }\n",
       "\n",
       "    .dataframe thead th {\n",
       "        text-align: right;\n",
       "    }\n",
       "</style>\n",
       "<table border=\"1\" class=\"dataframe\">\n",
       "  <thead>\n",
       "    <tr style=\"text-align: right;\">\n",
       "      <th></th>\n",
       "      <th>time</th>\n",
       "      <th>flag</th>\n",
       "      <th>u10_0</th>\n",
       "      <th>u10_1</th>\n",
       "      <th>u10_2</th>\n",
       "      <th>u10_3</th>\n",
       "      <th>u10_4</th>\n",
       "      <th>u10_5</th>\n",
       "      <th>u10_6</th>\n",
       "      <th>u10_7</th>\n",
       "      <th>...</th>\n",
       "      <th>v500_7_past</th>\n",
       "      <th>v500_8_past</th>\n",
       "      <th>v500_9_past</th>\n",
       "      <th>v500_10_past</th>\n",
       "      <th>v500_11_past</th>\n",
       "      <th>v500_12_past</th>\n",
       "      <th>v500_13_past</th>\n",
       "      <th>v500_14_past</th>\n",
       "      <th>v500_15_past</th>\n",
       "      <th>v500_16_past</th>\n",
       "    </tr>\n",
       "  </thead>\n",
       "  <tbody>\n",
       "    <tr>\n",
       "      <th>28569</th>\n",
       "      <td>2010-10-10 19:00:00</td>\n",
       "      <td>1.0</td>\n",
       "      <td>-6.332552</td>\n",
       "      <td>-7.313867</td>\n",
       "      <td>-7.354239</td>\n",
       "      <td>-7.050451</td>\n",
       "      <td>-4.853586</td>\n",
       "      <td>-5.899655</td>\n",
       "      <td>-3.115999</td>\n",
       "      <td>-3.923435</td>\n",
       "      <td>...</td>\n",
       "      <td>-2.198181</td>\n",
       "      <td>-2.879254</td>\n",
       "      <td>0.832727</td>\n",
       "      <td>1.770194</td>\n",
       "      <td>-1.402567</td>\n",
       "      <td>-6.508413</td>\n",
       "      <td>-6.605331</td>\n",
       "      <td>-4.333913</td>\n",
       "      <td>-4.824673</td>\n",
       "      <td>-0.498582</td>\n",
       "    </tr>\n",
       "    <tr>\n",
       "      <th>36645</th>\n",
       "      <td>2013-08-26 21:00:00</td>\n",
       "      <td>1.0</td>\n",
       "      <td>-2.516882</td>\n",
       "      <td>-4.126697</td>\n",
       "      <td>-5.542696</td>\n",
       "      <td>-6.013250</td>\n",
       "      <td>-2.042954</td>\n",
       "      <td>-2.431064</td>\n",
       "      <td>-2.810014</td>\n",
       "      <td>-6.522855</td>\n",
       "      <td>...</td>\n",
       "      <td>-3.060643</td>\n",
       "      <td>-4.418996</td>\n",
       "      <td>0.482045</td>\n",
       "      <td>0.337928</td>\n",
       "      <td>1.419878</td>\n",
       "      <td>-10.360043</td>\n",
       "      <td>0.543348</td>\n",
       "      <td>1.551089</td>\n",
       "      <td>-4.357693</td>\n",
       "      <td>-6.015034</td>\n",
       "    </tr>\n",
       "    <tr>\n",
       "      <th>40364</th>\n",
       "      <td>2015-04-07 11:00:00</td>\n",
       "      <td>0.0</td>\n",
       "      <td>-1.434467</td>\n",
       "      <td>-2.250653</td>\n",
       "      <td>-2.786054</td>\n",
       "      <td>1.102961</td>\n",
       "      <td>3.425576</td>\n",
       "      <td>-4.885676</td>\n",
       "      <td>-7.914343</td>\n",
       "      <td>-4.892219</td>\n",
       "      <td>...</td>\n",
       "      <td>4.733374</td>\n",
       "      <td>-0.319780</td>\n",
       "      <td>1.588627</td>\n",
       "      <td>0.276391</td>\n",
       "      <td>-3.816508</td>\n",
       "      <td>-7.569525</td>\n",
       "      <td>4.010709</td>\n",
       "      <td>11.469443</td>\n",
       "      <td>2.116601</td>\n",
       "      <td>-2.569170</td>\n",
       "    </tr>\n",
       "    <tr>\n",
       "      <th>27746</th>\n",
       "      <td>2010-07-08 03:00:00</td>\n",
       "      <td>1.0</td>\n",
       "      <td>-4.129637</td>\n",
       "      <td>-5.941292</td>\n",
       "      <td>-6.621566</td>\n",
       "      <td>-7.145966</td>\n",
       "      <td>-1.714096</td>\n",
       "      <td>0.909449</td>\n",
       "      <td>-0.653943</td>\n",
       "      <td>-4.590551</td>\n",
       "      <td>...</td>\n",
       "      <td>3.400117</td>\n",
       "      <td>-0.136435</td>\n",
       "      <td>2.926638</td>\n",
       "      <td>5.337078</td>\n",
       "      <td>6.071145</td>\n",
       "      <td>-2.038495</td>\n",
       "      <td>-6.955932</td>\n",
       "      <td>8.195403</td>\n",
       "      <td>0.891957</td>\n",
       "      <td>-1.752314</td>\n",
       "    </tr>\n",
       "    <tr>\n",
       "      <th>6729</th>\n",
       "      <td>2002-06-25 23:00:00</td>\n",
       "      <td>1.0</td>\n",
       "      <td>-7.872538</td>\n",
       "      <td>-7.225000</td>\n",
       "      <td>-7.805198</td>\n",
       "      <td>-6.431631</td>\n",
       "      <td>-7.688356</td>\n",
       "      <td>-8.735030</td>\n",
       "      <td>-6.756739</td>\n",
       "      <td>-7.949244</td>\n",
       "      <td>...</td>\n",
       "      <td>-3.701479</td>\n",
       "      <td>-1.502409</td>\n",
       "      <td>2.698268</td>\n",
       "      <td>0.407213</td>\n",
       "      <td>3.359339</td>\n",
       "      <td>-7.043623</td>\n",
       "      <td>-1.523259</td>\n",
       "      <td>4.471751</td>\n",
       "      <td>-4.287734</td>\n",
       "      <td>-1.433726</td>\n",
       "    </tr>\n",
       "  </tbody>\n",
       "</table>\n",
       "<p>5 rows × 210 columns</p>\n",
       "</div>"
      ],
      "text/plain": [
       "                     time  flag     u10_0     u10_1     u10_2     u10_3  \\\n",
       "28569 2010-10-10 19:00:00   1.0 -6.332552 -7.313867 -7.354239 -7.050451   \n",
       "36645 2013-08-26 21:00:00   1.0 -2.516882 -4.126697 -5.542696 -6.013250   \n",
       "40364 2015-04-07 11:00:00   0.0 -1.434467 -2.250653 -2.786054  1.102961   \n",
       "27746 2010-07-08 03:00:00   1.0 -4.129637 -5.941292 -6.621566 -7.145966   \n",
       "6729  2002-06-25 23:00:00   1.0 -7.872538 -7.225000 -7.805198 -6.431631   \n",
       "\n",
       "          u10_4     u10_5     u10_6     u10_7  ...  v500_7_past  v500_8_past  \\\n",
       "28569 -4.853586 -5.899655 -3.115999 -3.923435  ...    -2.198181    -2.879254   \n",
       "36645 -2.042954 -2.431064 -2.810014 -6.522855  ...    -3.060643    -4.418996   \n",
       "40364  3.425576 -4.885676 -7.914343 -4.892219  ...     4.733374    -0.319780   \n",
       "27746 -1.714096  0.909449 -0.653943 -4.590551  ...     3.400117    -0.136435   \n",
       "6729  -7.688356 -8.735030 -6.756739 -7.949244  ...    -3.701479    -1.502409   \n",
       "\n",
       "       v500_9_past  v500_10_past  v500_11_past  v500_12_past  v500_13_past  \\\n",
       "28569     0.832727      1.770194     -1.402567     -6.508413     -6.605331   \n",
       "36645     0.482045      0.337928      1.419878    -10.360043      0.543348   \n",
       "40364     1.588627      0.276391     -3.816508     -7.569525      4.010709   \n",
       "27746     2.926638      5.337078      6.071145     -2.038495     -6.955932   \n",
       "6729      2.698268      0.407213      3.359339     -7.043623     -1.523259   \n",
       "\n",
       "       v500_14_past  v500_15_past  v500_16_past  \n",
       "28569     -4.333913     -4.824673     -0.498582  \n",
       "36645      1.551089     -4.357693     -6.015034  \n",
       "40364     11.469443      2.116601     -2.569170  \n",
       "27746      8.195403      0.891957     -1.752314  \n",
       "6729       4.471751     -4.287734     -1.433726  \n",
       "\n",
       "[5 rows x 210 columns]"
      ]
     },
     "execution_count": 3,
     "metadata": {},
     "output_type": "execute_result"
    }
   ],
   "source": [
    "data = pd.read_csv(data_path/f'for_model_{compound}_{site}.csv', parse_dates=['time'])\n",
    "data.sample(5)"
   ]
  },
  {
   "cell_type": "code",
   "execution_count": 4,
   "metadata": {},
   "outputs": [
    {
     "name": "stdout",
     "output_type": "stream",
     "text": [
      "Train range: 2018-01-01 15:00:00 -> 2018-12-31 23:00:00. Length: 2379\n",
      "Val range: 2019-01-01 01:00:00 -> 2019-12-31 23:00:00. Length: 2126\n",
      "Test range: 2020-01-01 01:00:00 -> 2022-12-31 23:00:00. Length: 7925\n"
     ]
    }
   ],
   "source": [
    "train_data = data[(data['time'].dt.year >= 2018) & (data['time'].dt.year <= 2018)]\n",
    "val_data = data[(data['time'].dt.year >= 2019) & (data['time'].dt.year <= 2019)]\n",
    "test_data = data[(data['time'].dt.year >= 2020) & (data['time'].dt.year <= 2023)]\n",
    "\n",
    "print(f\"Train range: {train_data['time'].min()} -> {train_data['time'].max()}. Length: {len(train_data)}\")\n",
    "print(f\"Val range: {val_data['time'].min()} -> {val_data['time'].max()}. Length: {len(val_data)}\")\n",
    "print(f\"Test range: {test_data['time'].min()} -> {test_data['time'].max()}. Length: {len(test_data)}\")\n",
    "\n",
    "\n",
    "# Drop the \"time\" column as it won't be used in the model\n",
    "train_data = train_data.drop(columns=['time'])\n",
    "val_data = val_data.drop(columns=['time'])\n",
    "test_data = test_data.drop(columns=['time'])\n",
    "\n",
    "# Define the features (X) and the target (y)\n",
    "X_train = train_data.drop(columns=['flag'])\n",
    "y_train = train_data['flag']\n",
    "X_val = val_data.drop(columns=['flag'])\n",
    "y_val = val_data['flag']\n",
    "X_test = test_data.drop(columns=['flag'])\n",
    "y_test = test_data['flag']\n",
    "\n",
    "# Balanced Data - removing NaN values and associated data\n",
    "y_train = y_train.dropna()\n",
    "y_val = y_val.dropna()\n",
    "y_test = y_test.dropna()\n",
    "\n",
    "# aligning indices of features sets\n",
    "X_train = X_train.loc[y_train.index]\n",
    "X_val = X_val.loc[y_val.index]\n",
    "X_test = X_test.loc[y_test.index]"
   ]
  },
  {
   "cell_type": "markdown",
   "metadata": {},
   "source": [
    "### Model"
   ]
  },
  {
   "cell_type": "code",
   "execution_count": 5,
   "metadata": {},
   "outputs": [
    {
     "name": "stdout",
     "output_type": "stream",
     "text": [
      "Precision on Training Set = 0.850\n",
      "Precision on Validation Set = 0.740\n",
      "Recall on Training Set = 0.849\n",
      "Recall on Validation Set = 0.654\n",
      "F1 Score on Training Set = 0.850\n",
      "F1 Score on Validation Set = 0.695\n",
      "Misclassification Rate on Training Set = 0.226\n",
      "Misclassification Rate on Validation Set = 0.405\n"
     ]
    }
   ],
   "source": [
    "nn_model = MLPClassifier(random_state=42,\n",
    "                         max_iter=1000, \n",
    "                         hidden_layer_sizes=(100,), \n",
    "                         shuffle=False,\n",
    "                         activation='relu', \n",
    "                         solver='adam', \n",
    "                         alpha=0.001, \n",
    "                         learning_rate='constant', \n",
    "                         batch_size=100, \n",
    "                         early_stopping=True,\n",
    "                         learning_rate_init=0.001,\n",
    "                         beta_2=0.9,)\n",
    "\n",
    "nn_model.fit(X_train, y_train)\n",
    "\n",
    "class_probabilities_val = nn_model.predict_proba(X_val)\n",
    "class_probabilities_train = nn_model.predict_proba(X_train)\n",
    "\n",
    "confidence_threshold = cfg.confidence_threshold\n",
    "\n",
    "y_pred_val = (class_probabilities_val[:,1] > confidence_threshold).astype(int)\n",
    "y_pred_train = (class_probabilities_train[:,1] > confidence_threshold).astype(int)\n",
    "\n",
    "precision_val = precision_score(y_val, y_pred_val)\n",
    "precision_train = precision_score(y_train, y_pred_train)\n",
    "recall_val = recall_score(y_val, y_pred_val)\n",
    "recall_train = recall_score(y_train, y_pred_train)\n",
    "f1_val = f1_score(y_val, y_pred_val)\n",
    "f1_train = f1_score(y_train, y_pred_train)\n",
    "misclassification_rate_val = 1 - accuracy_score(y_val, y_pred_val)\n",
    "misclassification_rate_train = 1 - accuracy_score(y_train, y_pred_train)\n",
    "\n",
    "print(f\"Precision on Training Set = {precision_train:.3f}\")\n",
    "print(f\"Precision on Validation Set = {precision_val:.3f}\")\n",
    "print(f\"Recall on Training Set = {recall_train:.3f}\")\n",
    "print(f\"Recall on Validation Set = {recall_val:.3f}\")\n",
    "print(f\"F1 Score on Training Set = {f1_train:.3f}\")\n",
    "print(f\"F1 Score on Validation Set = {f1_val:.3f}\")\n",
    "print(f\"Misclassification Rate on Training Set = {misclassification_rate_train:.3f}\")\n",
    "print(f\"Misclassification Rate on Validation Set = {misclassification_rate_val:.3f}\")"
   ]
  },
  {
   "cell_type": "code",
   "execution_count": 6,
   "metadata": {},
   "outputs": [
    {
     "name": "stdout",
     "output_type": "stream",
     "text": [
      "Precision on Testing Set = 0.866\n",
      "Recall on Testing Set = 0.822\n",
      "F1 Score on Testing Set = 0.844\n",
      "Misclassification Rate on Testing Set = 0.250\n"
     ]
    }
   ],
   "source": [
    "# evaluating model on test set\n",
    "class_probabilities_test = nn_model.predict_proba(X_test)\n",
    "\n",
    "y_pred_test = (class_probabilities_test[:,1] > confidence_threshold).astype(int)\n",
    "\n",
    "precision_test = precision_score(y_test, y_pred_test)\n",
    "recall_test = recall_score(y_test, y_pred_test)\n",
    "f1_test = f1_score(y_test, y_pred_test)\n",
    "misclassification_rate_test = 1 - accuracy_score(y_test, y_pred_test)\n",
    "\n",
    "print(f\"Precision on Testing Set = {precision_test:.3f}\")\n",
    "print(f\"Recall on Testing Set = {recall_test:.3f}\")\n",
    "print(f\"F1 Score on Testing Set = {f1_test:.3f}\")\n",
    "print(f\"Misclassification Rate on Testing Set = {misclassification_rate_test:.3f}\")"
   ]
  },
  {
   "cell_type": "code",
   "execution_count": 7,
   "metadata": {},
   "outputs": [
    {
     "data": {
      "text/plain": [
       "['../model_files/nn_model_SMO.joblib']"
      ]
     },
     "execution_count": 7,
     "metadata": {},
     "output_type": "execute_result"
    }
   ],
   "source": [
    "# saving the model\n",
    "dump(nn_model, data_path/f'nn_model_{site}.joblib')\n",
    "dump(nn_model, f'../model_files/nn_model_{site}.joblib')"
   ]
  },
  {
   "cell_type": "markdown",
   "metadata": {},
   "source": [
    "### Confusion Matrix"
   ]
  },
  {
   "cell_type": "code",
   "execution_count": 8,
   "metadata": {},
   "outputs": [
    {
     "data": {
      "text/plain": [
       "Text(0.5, 1.0, 'Cape Matatula, American Samoa')"
      ]
     },
     "execution_count": 8,
     "metadata": {},
     "output_type": "execute_result"
    },
    {
     "data": {
      "image/png": "[encoded data removed]",
      "text/plain": [
       "<Figure size 600x600 with 2 Axes>"
      ]
     },
     "metadata": {},
     "output_type": "display_data"
    }
   ],
   "source": [
    "# creating a confusion matrix\n",
    "conf_matrix = pd.crosstab(y_test, y_pred_test, rownames=['Actual'], colnames=['Predicted'])\n",
    "\n",
    "conf_matrix.columns = ['Non-Baseline', 'Baseline']\n",
    "conf_matrix.index = ['Non-Baseline', 'Baseline']\n",
    "\n",
    "fig, ax = plt.subplots(figsize=(6, 6))\n",
    "\n",
    "sns.heatmap(conf_matrix, annot=True, fmt='d', cmap='BuPu', cbar=True, ax=ax)\n",
    "\n",
    "ax.set_xlabel('Predicted')\n",
    "ax.set_ylabel('Actual')\n",
    "\n",
    "ax.set_title(f'{site_name}')"
   ]
  },
  {
   "cell_type": "markdown",
   "metadata": {},
   "source": [
    "### Assessing Feature Importance"
   ]
  },
  {
   "cell_type": "code",
   "execution_count": 9,
   "metadata": {},
   "outputs": [],
   "source": [
    "# grouping features by category i.e. x-wind, y-wind, temporal etc.\n",
    "u_features = [col for col in data.columns if 'u' in col]\n",
    "v_features = [col for col in data.columns if 'v' in col]\n",
    "temporal_features = ['day_of_year', 'time_of_day']\n",
    "sp = ['sp']\n",
    "blh = ['blh']\n",
    "\n",
    "groups = [u_features, v_features, temporal_features, sp, blh]"
   ]
  },
  {
   "cell_type": "code",
   "execution_count": 10,
   "metadata": {},
   "outputs": [],
   "source": [
    "original_score = accuracy_score(y_train, nn_model.predict(X_train))\n",
    "importances = {}\n",
    "\n",
    "for group in groups:\n",
    "    scores_diff = []\n",
    "    for _ in range(100):\n",
    "        X_train_permuted = f.permute_group(X_train, group)\n",
    "        \n",
    "        permuted_score = accuracy_score(y_train, nn_model.predict(X_train_permuted))\n",
    "        scores_diff.append(original_score - permuted_score)\n",
    "    \n",
    "    importances[str(group)] = np.mean(scores_diff)\n",
    "\n",
    "# Sort groups by importance\n",
    "sorted_importances = sorted(importances.items(), key=lambda x: x[1], reverse=False)"
   ]
  },
  {
   "cell_type": "code",
   "execution_count": 11,
   "metadata": {},
   "outputs": [],
   "source": [
    "# matching the group names to the sorted importances\n",
    "n = len(groups)\n",
    "group_names_sorted = []\n",
    "\n",
    "for i in range(n):\n",
    "    name = sorted_importances[i][0]\n",
    "\n",
    "    if 'u10_0' in name:\n",
    "        group_names_sorted.append('u-wind')\n",
    "\n",
    "    elif 'v10_0' in name:\n",
    "        group_names_sorted.append('v-wind')\n",
    "\n",
    "    elif 'day_of_year' in name:\n",
    "        group_names_sorted.append('temporal')\n",
    "\n",
    "    elif 'sp' in name:\n",
    "        group_names_sorted.append('sp')\n",
    "\n",
    "    elif 'blh' in name:\n",
    "        group_names_sorted.append('blh')"
   ]
  },
  {
   "cell_type": "code",
   "execution_count": 12,
   "metadata": {},
   "outputs": [
    {
     "data": {
      "text/plain": [
       "Text(0, 0.5, 'Feature Group')"
      ]
     },
     "execution_count": 12,
     "metadata": {},
     "output_type": "execute_result"
    },
    {
     "data": {
      "image/png": "[encoded data removed]",
      "text/plain": [
       "<Figure size 1200x800 with 1 Axes>"
      ]
     },
     "metadata": {},
     "output_type": "display_data"
    }
   ],
   "source": [
    "# Plotting the importances of the groups\n",
    "fig, ax = plt.subplots(figsize=(12, 8))\n",
    "sns.set_theme(style='ticks', font='Arial')\n",
    "\n",
    "ax.barh(group_names_sorted, [importance for _, importance in sorted_importances], color='#FF620E')\n",
    "\n",
    "ax.set_xlabel('Importance', fontsize=12, fontstyle='italic')\n",
    "ax.set_ylabel('Feature Group', fontsize=12, fontstyle='italic')\n",
    "# ax.set_title('Permutation Importances', fontsize=14)"
   ]
  }
 ],
 "metadata": {
  "kernelspec": {
   "display_name": "venv",
   "language": "python",
   "name": "python3"
  },
  "language_info": {
   "codemirror_mode": {
    "name": "ipython",
    "version": 3
   },
   "file_extension": ".py",
   "mimetype": "text/x-python",
   "name": "python",
   "nbconvert_exporter": "python",
   "pygments_lexer": "ipython3",
   "version": "3.11.9"
  }
 },
 "nbformat": 4,
 "nbformat_minor": 2
}
