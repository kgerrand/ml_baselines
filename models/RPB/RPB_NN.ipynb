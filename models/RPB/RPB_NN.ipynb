{
 "cells": [
  {
   "cell_type": "markdown",
   "metadata": {},
   "source": [
    "# Neural Network Final Model - Ragged Point, Barbados"
   ]
  },
  {
   "cell_type": "code",
   "execution_count": 1,
   "metadata": {},
   "outputs": [],
   "source": [
    "import pandas as pd\n",
    "import numpy as np\n",
    "from joblib import dump\n",
    "from pathlib import Path\n",
    "import matplotlib.pyplot as plt\n",
    "import seaborn as sns\n",
    "\n",
    "from sklearn.neural_network import MLPClassifier\n",
    "from sklearn.metrics import precision_score, recall_score, f1_score, accuracy_score\n",
    "\n",
    "import sys\n",
    "sys.path.append('../../')\n",
    "import config as cfg\n",
    "import functions as f\n",
    "\n",
    "data_path = Path.home()/'OneDrive'/'Kirstin'/'Uni'/'Year4'/'MSciProject'/'data_files'/'saved_files'"
   ]
  },
  {
   "cell_type": "code",
   "execution_count": 2,
   "metadata": {},
   "outputs": [
    {
     "name": "stdout",
     "output_type": "stream",
     "text": [
      "Creating a neural network model for \u001b[1mRagged Point, Barbados\u001b[0;0m.\n"
     ]
    }
   ],
   "source": [
    "site = cfg.site\n",
    "site_name = cfg.site_dict[site]\n",
    "assert site == 'RPB', 'This script is only for Ragged Point, Barbados. The site can be changed in the config file.'\n",
    "\n",
    "compound = cfg.compound\n",
    "\n",
    "print(f\"Creating a neural network model for \\033[1m{site_name}\\033[0;0m.\")"
   ]
  },
  {
   "cell_type": "markdown",
   "metadata": {},
   "source": [
    "### Loading & Initialising Data"
   ]
  },
  {
   "cell_type": "code",
   "execution_count": 3,
   "metadata": {},
   "outputs": [
    {
     "data": {
      "text/html": [
       "<div>\n",
       "<style scoped>\n",
       "    .dataframe tbody tr th:only-of-type {\n",
       "        vertical-align: middle;\n",
       "    }\n",
       "\n",
       "    .dataframe tbody tr th {\n",
       "        vertical-align: top;\n",
       "    }\n",
       "\n",
       "    .dataframe thead th {\n",
       "        text-align: right;\n",
       "    }\n",
       "</style>\n",
       "<table border=\"1\" class=\"dataframe\">\n",
       "  <thead>\n",
       "    <tr style=\"text-align: right;\">\n",
       "      <th></th>\n",
       "      <th>time</th>\n",
       "      <th>flag</th>\n",
       "      <th>u10_0</th>\n",
       "      <th>u10_1</th>\n",
       "      <th>u10_2</th>\n",
       "      <th>u10_3</th>\n",
       "      <th>u10_4</th>\n",
       "      <th>u10_5</th>\n",
       "      <th>u10_6</th>\n",
       "      <th>u10_7</th>\n",
       "      <th>...</th>\n",
       "      <th>v500_7_past</th>\n",
       "      <th>v500_8_past</th>\n",
       "      <th>v500_9_past</th>\n",
       "      <th>v500_10_past</th>\n",
       "      <th>v500_11_past</th>\n",
       "      <th>v500_12_past</th>\n",
       "      <th>v500_13_past</th>\n",
       "      <th>v500_14_past</th>\n",
       "      <th>v500_15_past</th>\n",
       "      <th>v500_16_past</th>\n",
       "    </tr>\n",
       "  </thead>\n",
       "  <tbody>\n",
       "    <tr>\n",
       "      <th>10918</th>\n",
       "      <td>2006-07-20 01:00:00</td>\n",
       "      <td>1.0</td>\n",
       "      <td>-6.182651</td>\n",
       "      <td>-6.289634</td>\n",
       "      <td>-7.308311</td>\n",
       "      <td>-5.548863</td>\n",
       "      <td>-5.682357</td>\n",
       "      <td>-2.340310</td>\n",
       "      <td>0.201393</td>\n",
       "      <td>-5.925330</td>\n",
       "      <td>...</td>\n",
       "      <td>0.480191</td>\n",
       "      <td>1.398500</td>\n",
       "      <td>-2.561740</td>\n",
       "      <td>0.133571</td>\n",
       "      <td>0.048534</td>\n",
       "      <td>-1.155852</td>\n",
       "      <td>-1.451172</td>\n",
       "      <td>0.993187</td>\n",
       "      <td>1.936454</td>\n",
       "      <td>-1.534823</td>\n",
       "    </tr>\n",
       "    <tr>\n",
       "      <th>3687</th>\n",
       "      <td>2001-12-01 15:00:00</td>\n",
       "      <td>0.0</td>\n",
       "      <td>-6.687699</td>\n",
       "      <td>-6.255511</td>\n",
       "      <td>-7.667782</td>\n",
       "      <td>-7.466095</td>\n",
       "      <td>-5.370554</td>\n",
       "      <td>-3.082931</td>\n",
       "      <td>-4.079021</td>\n",
       "      <td>-5.462023</td>\n",
       "      <td>...</td>\n",
       "      <td>0.572313</td>\n",
       "      <td>-4.374182</td>\n",
       "      <td>9.030133</td>\n",
       "      <td>4.387214</td>\n",
       "      <td>6.334608</td>\n",
       "      <td>-4.087524</td>\n",
       "      <td>3.370283</td>\n",
       "      <td>4.304506</td>\n",
       "      <td>-3.325296</td>\n",
       "      <td>-10.143056</td>\n",
       "    </tr>\n",
       "    <tr>\n",
       "      <th>10609</th>\n",
       "      <td>2006-04-27 05:00:00</td>\n",
       "      <td>1.0</td>\n",
       "      <td>-6.499472</td>\n",
       "      <td>-6.061025</td>\n",
       "      <td>-7.415660</td>\n",
       "      <td>-7.161228</td>\n",
       "      <td>-6.359029</td>\n",
       "      <td>-3.372762</td>\n",
       "      <td>-4.518483</td>\n",
       "      <td>-7.004835</td>\n",
       "      <td>...</td>\n",
       "      <td>-3.593081</td>\n",
       "      <td>-4.360824</td>\n",
       "      <td>-1.472534</td>\n",
       "      <td>0.553857</td>\n",
       "      <td>-1.425857</td>\n",
       "      <td>-2.571033</td>\n",
       "      <td>1.150186</td>\n",
       "      <td>-0.439219</td>\n",
       "      <td>-0.177672</td>\n",
       "      <td>-3.906939</td>\n",
       "    </tr>\n",
       "    <tr>\n",
       "      <th>29794</th>\n",
       "      <td>2021-08-18 11:00:00</td>\n",
       "      <td>1.0</td>\n",
       "      <td>-9.276618</td>\n",
       "      <td>-7.493864</td>\n",
       "      <td>-7.722561</td>\n",
       "      <td>-6.987130</td>\n",
       "      <td>-5.320346</td>\n",
       "      <td>-2.228800</td>\n",
       "      <td>-2.255451</td>\n",
       "      <td>-8.817424</td>\n",
       "      <td>...</td>\n",
       "      <td>2.388068</td>\n",
       "      <td>-0.188295</td>\n",
       "      <td>0.652683</td>\n",
       "      <td>3.497869</td>\n",
       "      <td>0.905365</td>\n",
       "      <td>-0.649135</td>\n",
       "      <td>-2.436838</td>\n",
       "      <td>0.008731</td>\n",
       "      <td>4.533089</td>\n",
       "      <td>1.663971</td>\n",
       "    </tr>\n",
       "    <tr>\n",
       "      <th>13348</th>\n",
       "      <td>2008-05-11 17:00:00</td>\n",
       "      <td>1.0</td>\n",
       "      <td>-7.112271</td>\n",
       "      <td>-4.627883</td>\n",
       "      <td>-5.089101</td>\n",
       "      <td>-7.082063</td>\n",
       "      <td>-6.519908</td>\n",
       "      <td>-4.749450</td>\n",
       "      <td>-3.846170</td>\n",
       "      <td>-7.204367</td>\n",
       "      <td>...</td>\n",
       "      <td>-1.660875</td>\n",
       "      <td>-4.949289</td>\n",
       "      <td>-2.999515</td>\n",
       "      <td>0.071102</td>\n",
       "      <td>0.967647</td>\n",
       "      <td>4.776174</td>\n",
       "      <td>-1.910529</td>\n",
       "      <td>-1.205125</td>\n",
       "      <td>-0.829344</td>\n",
       "      <td>0.028843</td>\n",
       "    </tr>\n",
       "  </tbody>\n",
       "</table>\n",
       "<p>5 rows × 210 columns</p>\n",
       "</div>"
      ],
      "text/plain": [
       "                     time  flag     u10_0     u10_1     u10_2     u10_3  \\\n",
       "10918 2006-07-20 01:00:00   1.0 -6.182651 -6.289634 -7.308311 -5.548863   \n",
       "3687  2001-12-01 15:00:00   0.0 -6.687699 -6.255511 -7.667782 -7.466095   \n",
       "10609 2006-04-27 05:00:00   1.0 -6.499472 -6.061025 -7.415660 -7.161228   \n",
       "29794 2021-08-18 11:00:00   1.0 -9.276618 -7.493864 -7.722561 -6.987130   \n",
       "13348 2008-05-11 17:00:00   1.0 -7.112271 -4.627883 -5.089101 -7.082063   \n",
       "\n",
       "          u10_4     u10_5     u10_6     u10_7  ...  v500_7_past  v500_8_past  \\\n",
       "10918 -5.682357 -2.340310  0.201393 -5.925330  ...     0.480191     1.398500   \n",
       "3687  -5.370554 -3.082931 -4.079021 -5.462023  ...     0.572313    -4.374182   \n",
       "10609 -6.359029 -3.372762 -4.518483 -7.004835  ...    -3.593081    -4.360824   \n",
       "29794 -5.320346 -2.228800 -2.255451 -8.817424  ...     2.388068    -0.188295   \n",
       "13348 -6.519908 -4.749450 -3.846170 -7.204367  ...    -1.660875    -4.949289   \n",
       "\n",
       "       v500_9_past  v500_10_past  v500_11_past  v500_12_past  v500_13_past  \\\n",
       "10918    -2.561740      0.133571      0.048534     -1.155852     -1.451172   \n",
       "3687      9.030133      4.387214      6.334608     -4.087524      3.370283   \n",
       "10609    -1.472534      0.553857     -1.425857     -2.571033      1.150186   \n",
       "29794     0.652683      3.497869      0.905365     -0.649135     -2.436838   \n",
       "13348    -2.999515      0.071102      0.967647      4.776174     -1.910529   \n",
       "\n",
       "       v500_14_past  v500_15_past  v500_16_past  \n",
       "10918      0.993187      1.936454     -1.534823  \n",
       "3687       4.304506     -3.325296    -10.143056  \n",
       "10609     -0.439219     -0.177672     -3.906939  \n",
       "29794      0.008731      4.533089      1.663971  \n",
       "13348     -1.205125     -0.829344      0.028843  \n",
       "\n",
       "[5 rows x 210 columns]"
      ]
     },
     "execution_count": 3,
     "metadata": {},
     "output_type": "execute_result"
    }
   ],
   "source": [
    "data = pd.read_csv(data_path/f'for_model_{compound}_{site}.csv', parse_dates=['time'])\n",
    "data.sample(5)"
   ]
  },
  {
   "cell_type": "code",
   "execution_count": 4,
   "metadata": {},
   "outputs": [
    {
     "name": "stdout",
     "output_type": "stream",
     "text": [
      "Train range: 2018-01-01 03:00:00 -> 2018-12-31 23:00:00. Length: 1401\n",
      "Val range: 2019-01-01 01:00:00 -> 2019-12-31 03:00:00. Length: 1228\n",
      "Test range: 2020-01-01 21:00:00 -> 2023-09-18 13:00:00. Length: 4028\n"
     ]
    }
   ],
   "source": [
    "train_data = data[(data['time'].dt.year >= 2018) & (data['time'].dt.year <= 2018)]\n",
    "val_data = data[(data['time'].dt.year >= 2019) & (data['time'].dt.year <= 2019)]\n",
    "test_data = data[(data['time'].dt.year >= 2020) & (data['time'].dt.year <= 2023)]\n",
    "\n",
    "print(f\"Train range: {train_data['time'].min()} -> {train_data['time'].max()}. Length: {len(train_data)}\")\n",
    "print(f\"Val range: {val_data['time'].min()} -> {val_data['time'].max()}. Length: {len(val_data)}\")\n",
    "print(f\"Test range: {test_data['time'].min()} -> {test_data['time'].max()}. Length: {len(test_data)}\")\n",
    "\n",
    "\n",
    "# Drop the \"time\" column as it won't be used in the model\n",
    "train_data = train_data.drop(columns=['time'])\n",
    "val_data = val_data.drop(columns=['time'])\n",
    "test_data = test_data.drop(columns=['time'])\n",
    "\n",
    "# Define the features (X) and the target (y)\n",
    "X_train = train_data.drop(columns=['flag'])\n",
    "y_train = train_data['flag']\n",
    "X_val = val_data.drop(columns=['flag'])\n",
    "y_val = val_data['flag']\n",
    "X_test = test_data.drop(columns=['flag'])\n",
    "y_test = test_data['flag']\n",
    "\n",
    "# Balanced Data - removing NaN values and associated data\n",
    "y_train = y_train.dropna()\n",
    "y_val = y_val.dropna()\n",
    "y_test = y_test.dropna()\n",
    "\n",
    "# aligning indices of features sets\n",
    "X_train = X_train.loc[y_train.index]\n",
    "X_val = X_val.loc[y_val.index]\n",
    "X_test = X_test.loc[y_test.index]"
   ]
  },
  {
   "cell_type": "markdown",
   "metadata": {},
   "source": [
    "### Model"
   ]
  },
  {
   "cell_type": "code",
   "execution_count": 11,
   "metadata": {},
   "outputs": [
    {
     "name": "stdout",
     "output_type": "stream",
     "text": [
      "Precision on Training Set = 0.858\n",
      "Precision on Validation Set = 0.839\n",
      "Recall on Training Set = 0.898\n",
      "Recall on Validation Set = 0.952\n",
      "F1 Score on Training Set = 0.878\n",
      "F1 Score on Validation Set = 0.892\n",
      "Misclassification Rate on Training Set = 0.201\n",
      "Misclassification Rate on Validation Set = 0.173\n"
     ]
    }
   ],
   "source": [
    "nn_model = MLPClassifier(random_state=1,\n",
    "                         max_iter=500, \n",
    "                         hidden_layer_sizes=(200), \n",
    "                         shuffle=False,\n",
    "                         activation='relu', \n",
    "                         solver='adam', \n",
    "                         alpha=0.0001, \n",
    "                         learning_rate='constant', \n",
    "                         batch_size=100, \n",
    "                         early_stopping=True,\n",
    "                         learning_rate_init=0.001,\n",
    "                         beta_2=0.9,)\n",
    "\n",
    "nn_model.fit(X_train, y_train)\n",
    "\n",
    "class_probabilities_val = nn_model.predict_proba(X_val)\n",
    "class_probabilities_train = nn_model.predict_proba(X_train)\n",
    "\n",
    "confidence_threshold = cfg.confidence_threshold\n",
    "\n",
    "y_pred_val = (class_probabilities_val[:,1] > confidence_threshold).astype(int)\n",
    "y_pred_train = (class_probabilities_train[:,1] > confidence_threshold).astype(int)\n",
    "\n",
    "\n",
    "precision_val = precision_score(y_val, y_pred_val)\n",
    "precision_train = precision_score(y_train, y_pred_train)\n",
    "recall_val = recall_score(y_val, y_pred_val)\n",
    "recall_train = recall_score(y_train, y_pred_train)\n",
    "f1_val = f1_score(y_val, y_pred_val)\n",
    "f1_train = f1_score(y_train, y_pred_train)\n",
    "misclassification_rate_val = 1 - accuracy_score(y_val, y_pred_val)\n",
    "misclassification_rate_train = 1 - accuracy_score(y_train, y_pred_train)\n",
    "\n",
    "print(f\"Precision on Training Set = {precision_train:.3f}\")\n",
    "print(f\"Precision on Validation Set = {precision_val:.3f}\")\n",
    "print(f\"Recall on Training Set = {recall_train:.3f}\")\n",
    "print(f\"Recall on Validation Set = {recall_val:.3f}\")\n",
    "print(f\"F1 Score on Training Set = {f1_train:.3f}\")\n",
    "print(f\"F1 Score on Validation Set = {f1_val:.3f}\")\n",
    "print(f\"Misclassification Rate on Training Set = {misclassification_rate_train:.3f}\")\n",
    "print(f\"Misclassification Rate on Validation Set = {misclassification_rate_val:.3f}\")"
   ]
  },
  {
   "cell_type": "code",
   "execution_count": 12,
   "metadata": {},
   "outputs": [
    {
     "name": "stdout",
     "output_type": "stream",
     "text": [
      "Precision on Testing Set = 0.811\n",
      "Recall on Testing Set = 0.916\n",
      "F1 Score on Testing Set = 0.860\n",
      "Misclassification Rate on Testing Set = 0.220\n"
     ]
    }
   ],
   "source": [
    "# evaluating model on test set\n",
    "class_probabilities_test = nn_model.predict_proba(X_test)\n",
    "y_pred_test = (class_probabilities_test[:,1] > confidence_threshold).astype(int)\n",
    "\n",
    "precision_test = precision_score(y_test, y_pred_test)\n",
    "recall_test = recall_score(y_test, y_pred_test)\n",
    "f1_test = f1_score(y_test, y_pred_test)\n",
    "misclassification_rate_test = 1 - accuracy_score(y_test, y_pred_test)\n",
    "\n",
    "print(f\"Precision on Testing Set = {precision_test:.3f}\")\n",
    "print(f\"Recall on Testing Set = {recall_test:.3f}\")\n",
    "print(f\"F1 Score on Testing Set = {f1_test:.3f}\")\n",
    "print(f\"Misclassification Rate on Testing Set = {misclassification_rate_test:.3f}\")"
   ]
  },
  {
   "cell_type": "code",
   "execution_count": 13,
   "metadata": {},
   "outputs": [
    {
     "data": {
      "text/plain": [
       "['../model_files/nn_model_RPB.joblib']"
      ]
     },
     "execution_count": 13,
     "metadata": {},
     "output_type": "execute_result"
    }
   ],
   "source": [
    "# saving the model\n",
    "dump(nn_model, data_path/f'nn_model_{site}.joblib')\n",
    "dump(nn_model, f'../model_files/nn_model_{site}.joblib')"
   ]
  },
  {
   "cell_type": "markdown",
   "metadata": {},
   "source": [
    "### Confusion Matrix"
   ]
  },
  {
   "cell_type": "code",
   "execution_count": 14,
   "metadata": {},
   "outputs": [
    {
     "data": {
      "text/plain": [
       "Text(0.5, 1.0, 'Ragged Point, Barbados')"
      ]
     },
     "execution_count": 14,
     "metadata": {},
     "output_type": "execute_result"
    },
    {
     "data": {
      "image/png": "[encoded data removed]",
      "text/plain": [
       "<Figure size 600x600 with 2 Axes>"
      ]
     },
     "metadata": {},
     "output_type": "display_data"
    }
   ],
   "source": [
    "# creating a confusion matrix\n",
    "conf_matrix = pd.crosstab(y_test, y_pred_test, rownames=['Actual'], colnames=['Predicted'])\n",
    "\n",
    "conf_matrix.columns = ['Non-Baseline', 'Baseline']\n",
    "conf_matrix.index = ['Non-Baseline', 'Baseline']\n",
    "\n",
    "fig, ax = plt.subplots(figsize=(6, 6))\n",
    "\n",
    "sns.heatmap(conf_matrix, annot=True, fmt='d', cmap='BuPu', cbar=True, ax=ax)\n",
    "\n",
    "ax.set_xlabel('Predicted')\n",
    "ax.set_ylabel('Actual')\n",
    "\n",
    "ax.set_title(f'{site_name}')"
   ]
  },
  {
   "cell_type": "markdown",
   "metadata": {},
   "source": [
    "### Assessing Feature Importance"
   ]
  },
  {
   "cell_type": "code",
   "execution_count": 15,
   "metadata": {},
   "outputs": [],
   "source": [
    "# grouping features by category i.e. x-wind, y-wind, temporal etc.\n",
    "u_features = [col for col in data.columns if 'u' in col]\n",
    "v_features = [col for col in data.columns if 'v' in col]\n",
    "temporal_features = ['day_of_year', 'time_of_day']\n",
    "sp = ['sp']\n",
    "blh = ['blh']\n",
    "\n",
    "groups = [u_features, v_features, temporal_features, sp, blh]"
   ]
  },
  {
   "cell_type": "code",
   "execution_count": 16,
   "metadata": {},
   "outputs": [],
   "source": [
    "original_score = accuracy_score(y_train, nn_model.predict(X_train))\n",
    "importances = {}\n",
    "\n",
    "for group in groups:\n",
    "    scores_diff = []\n",
    "    for _ in range(100):\n",
    "        X_train_permuted = f.permute_group(X_train, group)\n",
    "        \n",
    "        permuted_score = accuracy_score(y_train, nn_model.predict(X_train_permuted))\n",
    "        scores_diff.append(original_score - permuted_score)\n",
    "    \n",
    "    importances[str(group)] = np.mean(scores_diff)\n",
    "\n",
    "# Sort groups by importance\n",
    "sorted_importances = sorted(importances.items(), key=lambda x: x[1], reverse=False)"
   ]
  },
  {
   "cell_type": "code",
   "execution_count": 17,
   "metadata": {},
   "outputs": [],
   "source": [
    "# matching the group names to the sorted importances\n",
    "n = len(groups)\n",
    "group_names_sorted = []\n",
    "\n",
    "for i in range(n):\n",
    "    name = sorted_importances[i][0]\n",
    "\n",
    "    if 'u10_0' in name:\n",
    "        group_names_sorted.append('u-wind')\n",
    "\n",
    "    elif 'v10_0' in name:\n",
    "        group_names_sorted.append('v-wind')\n",
    "\n",
    "    elif 'day_of_year' in name:\n",
    "        group_names_sorted.append('temporal')\n",
    "\n",
    "    elif 'sp' in name:\n",
    "        group_names_sorted.append('sp')\n",
    "\n",
    "    elif 'blh' in name:\n",
    "        group_names_sorted.append('blh')"
   ]
  },
  {
   "cell_type": "code",
   "execution_count": 18,
   "metadata": {},
   "outputs": [
    {
     "data": {
      "text/plain": [
       "Text(0, 0.5, 'Feature Group')"
      ]
     },
     "execution_count": 18,
     "metadata": {},
     "output_type": "execute_result"
    },
    {
     "data": {
      "image/png": "[encoded data removed]",
      "text/plain": [
       "<Figure size 1200x800 with 1 Axes>"
      ]
     },
     "metadata": {},
     "output_type": "display_data"
    }
   ],
   "source": [
    "# Plotting the importances of the groups\n",
    "fig, ax = plt.subplots(figsize=(12, 8))\n",
    "sns.set_theme(style='ticks', font='Arial')\n",
    "\n",
    "ax.barh(group_names_sorted, [importance for _, importance in sorted_importances], color='#FF620E')\n",
    "\n",
    "ax.set_xlabel('Importance', fontsize=12, fontstyle='italic')\n",
    "ax.set_ylabel('Feature Group', fontsize=12, fontstyle='italic')\n",
    "# ax.set_title('Permutation Importances', fontsize=14)"
   ]
  }
 ],
 "metadata": {
  "kernelspec": {
   "display_name": "venv",
   "language": "python",
   "name": "python3"
  },
  "language_info": {
   "codemirror_mode": {
    "name": "ipython",
    "version": 3
   },
   "file_extension": ".py",
   "mimetype": "text/x-python",
   "name": "python",
   "nbconvert_exporter": "python",
   "pygments_lexer": "ipython3",
   "version": "3.11.9"
  }
 },
 "nbformat": 4,
 "nbformat_minor": 2
}
