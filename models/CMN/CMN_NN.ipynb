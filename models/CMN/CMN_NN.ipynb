{
 "cells": [
  {
   "cell_type": "markdown",
   "metadata": {},
   "source": [
    "# Neural Network Final Model - Monte Cimone, Italy"
   ]
  },
  {
   "cell_type": "code",
   "execution_count": 1,
   "metadata": {},
   "outputs": [],
   "source": [
    "import pandas as pd\n",
    "import numpy as np\n",
    "from joblib import dump\n",
    "from pathlib import Path\n",
    "import matplotlib.pyplot as plt\n",
    "import seaborn as sns\n",
    "\n",
    "from sklearn.neural_network import MLPClassifier\n",
    "from sklearn.metrics import precision_score, recall_score, f1_score, accuracy_score\n",
    "\n",
    "import sys\n",
    "sys.path.append('../../')\n",
    "import config as cfg\n",
    "import functions as f\n",
    "\n",
    "data_path = Path.home()/'OneDrive'/'Kirstin'/'Uni'/'Year4'/'MSciProject'/'data_files'/'saved_files'"
   ]
  },
  {
   "cell_type": "code",
   "execution_count": 2,
   "metadata": {},
   "outputs": [
    {
     "name": "stdout",
     "output_type": "stream",
     "text": [
      "Creating a neural network model for \u001b[1mMonte Cimone, Italy\u001b[0;0m.\n"
     ]
    }
   ],
   "source": [
    "site = cfg.site\n",
    "site_name = cfg.site_dict[site]\n",
    "assert site == 'CMN', 'This script is only for Monte Cimone, Italy. The site can be changed in the config file.'\n",
    "\n",
    "compound = cfg.compound\n",
    "\n",
    "print(f\"Creating a neural network model for \\033[1m{site_name}\\033[0;0m.\")"
   ]
  },
  {
   "cell_type": "markdown",
   "metadata": {},
   "source": [
    "### Loading & Initialising Data"
   ]
  },
  {
   "cell_type": "code",
   "execution_count": 3,
   "metadata": {},
   "outputs": [
    {
     "data": {
      "text/html": [
       "<div>\n",
       "<style scoped>\n",
       "    .dataframe tbody tr th:only-of-type {\n",
       "        vertical-align: middle;\n",
       "    }\n",
       "\n",
       "    .dataframe tbody tr th {\n",
       "        vertical-align: top;\n",
       "    }\n",
       "\n",
       "    .dataframe thead th {\n",
       "        text-align: right;\n",
       "    }\n",
       "</style>\n",
       "<table border=\"1\" class=\"dataframe\">\n",
       "  <thead>\n",
       "    <tr style=\"text-align: right;\">\n",
       "      <th></th>\n",
       "      <th>time</th>\n",
       "      <th>flag</th>\n",
       "      <th>u10_0</th>\n",
       "      <th>u10_1</th>\n",
       "      <th>u10_2</th>\n",
       "      <th>u10_3</th>\n",
       "      <th>u10_4</th>\n",
       "      <th>u10_5</th>\n",
       "      <th>u10_6</th>\n",
       "      <th>u10_7</th>\n",
       "      <th>...</th>\n",
       "      <th>v500_7_past</th>\n",
       "      <th>v500_8_past</th>\n",
       "      <th>v500_9_past</th>\n",
       "      <th>v500_10_past</th>\n",
       "      <th>v500_11_past</th>\n",
       "      <th>v500_12_past</th>\n",
       "      <th>v500_13_past</th>\n",
       "      <th>v500_14_past</th>\n",
       "      <th>v500_15_past</th>\n",
       "      <th>v500_16_past</th>\n",
       "    </tr>\n",
       "  </thead>\n",
       "  <tbody>\n",
       "    <tr>\n",
       "      <th>1891</th>\n",
       "      <td>2009-10-24 09:00:00</td>\n",
       "      <td>1.0</td>\n",
       "      <td>-0.880436</td>\n",
       "      <td>0.060588</td>\n",
       "      <td>1.738949</td>\n",
       "      <td>-1.946638</td>\n",
       "      <td>4.098099</td>\n",
       "      <td>7.063369</td>\n",
       "      <td>6.355130</td>\n",
       "      <td>0.518473</td>\n",
       "      <td>...</td>\n",
       "      <td>-22.965242</td>\n",
       "      <td>-36.499023</td>\n",
       "      <td>-20.019196</td>\n",
       "      <td>-17.912952</td>\n",
       "      <td>0.807703</td>\n",
       "      <td>5.392985</td>\n",
       "      <td>-3.395360</td>\n",
       "      <td>-5.427581</td>\n",
       "      <td>-24.574867</td>\n",
       "      <td>-12.867394</td>\n",
       "    </tr>\n",
       "    <tr>\n",
       "      <th>2951</th>\n",
       "      <td>2012-05-27 11:00:00</td>\n",
       "      <td>0.0</td>\n",
       "      <td>-0.355637</td>\n",
       "      <td>-2.180124</td>\n",
       "      <td>-1.811570</td>\n",
       "      <td>-2.358627</td>\n",
       "      <td>2.310845</td>\n",
       "      <td>0.235204</td>\n",
       "      <td>-3.604782</td>\n",
       "      <td>2.069794</td>\n",
       "      <td>...</td>\n",
       "      <td>-17.938599</td>\n",
       "      <td>-3.686737</td>\n",
       "      <td>5.522683</td>\n",
       "      <td>24.941422</td>\n",
       "      <td>-4.957534</td>\n",
       "      <td>-8.540872</td>\n",
       "      <td>-8.930699</td>\n",
       "      <td>-7.392309</td>\n",
       "      <td>-17.201889</td>\n",
       "      <td>-21.524140</td>\n",
       "    </tr>\n",
       "    <tr>\n",
       "      <th>2528</th>\n",
       "      <td>2011-07-17 01:00:00</td>\n",
       "      <td>1.0</td>\n",
       "      <td>0.890413</td>\n",
       "      <td>0.697176</td>\n",
       "      <td>-1.703552</td>\n",
       "      <td>1.065871</td>\n",
       "      <td>1.861279</td>\n",
       "      <td>-1.444810</td>\n",
       "      <td>-4.129077</td>\n",
       "      <td>-1.139280</td>\n",
       "      <td>...</td>\n",
       "      <td>1.303554</td>\n",
       "      <td>6.730114</td>\n",
       "      <td>1.822527</td>\n",
       "      <td>10.064308</td>\n",
       "      <td>11.756118</td>\n",
       "      <td>-0.885604</td>\n",
       "      <td>-3.465022</td>\n",
       "      <td>-3.008861</td>\n",
       "      <td>-6.447056</td>\n",
       "      <td>4.603768</td>\n",
       "    </tr>\n",
       "    <tr>\n",
       "      <th>3768</th>\n",
       "      <td>2014-12-19 19:00:00</td>\n",
       "      <td>1.0</td>\n",
       "      <td>1.009785</td>\n",
       "      <td>7.226201</td>\n",
       "      <td>5.951276</td>\n",
       "      <td>-0.996228</td>\n",
       "      <td>1.524575</td>\n",
       "      <td>6.228138</td>\n",
       "      <td>3.671491</td>\n",
       "      <td>1.229791</td>\n",
       "      <td>...</td>\n",
       "      <td>3.455765</td>\n",
       "      <td>3.297551</td>\n",
       "      <td>10.736714</td>\n",
       "      <td>5.624229</td>\n",
       "      <td>4.066906</td>\n",
       "      <td>-0.868753</td>\n",
       "      <td>14.969716</td>\n",
       "      <td>1.926362</td>\n",
       "      <td>-2.035193</td>\n",
       "      <td>-6.027772</td>\n",
       "    </tr>\n",
       "    <tr>\n",
       "      <th>7279</th>\n",
       "      <td>2020-10-26 01:00:00</td>\n",
       "      <td>1.0</td>\n",
       "      <td>0.418747</td>\n",
       "      <td>-1.777036</td>\n",
       "      <td>-3.792504</td>\n",
       "      <td>-1.015638</td>\n",
       "      <td>0.709579</td>\n",
       "      <td>6.471547</td>\n",
       "      <td>5.641512</td>\n",
       "      <td>-3.134641</td>\n",
       "      <td>...</td>\n",
       "      <td>4.514553</td>\n",
       "      <td>-3.020018</td>\n",
       "      <td>-7.792196</td>\n",
       "      <td>-8.927485</td>\n",
       "      <td>12.716691</td>\n",
       "      <td>1.745074</td>\n",
       "      <td>5.965908</td>\n",
       "      <td>-4.403340</td>\n",
       "      <td>-13.488481</td>\n",
       "      <td>-0.249121</td>\n",
       "    </tr>\n",
       "  </tbody>\n",
       "</table>\n",
       "<p>5 rows × 210 columns</p>\n",
       "</div>"
      ],
      "text/plain": [
       "                    time  flag     u10_0     u10_1     u10_2     u10_3  \\\n",
       "1891 2009-10-24 09:00:00   1.0 -0.880436  0.060588  1.738949 -1.946638   \n",
       "2951 2012-05-27 11:00:00   0.0 -0.355637 -2.180124 -1.811570 -2.358627   \n",
       "2528 2011-07-17 01:00:00   1.0  0.890413  0.697176 -1.703552  1.065871   \n",
       "3768 2014-12-19 19:00:00   1.0  1.009785  7.226201  5.951276 -0.996228   \n",
       "7279 2020-10-26 01:00:00   1.0  0.418747 -1.777036 -3.792504 -1.015638   \n",
       "\n",
       "         u10_4     u10_5     u10_6     u10_7  ...  v500_7_past  v500_8_past  \\\n",
       "1891  4.098099  7.063369  6.355130  0.518473  ...   -22.965242   -36.499023   \n",
       "2951  2.310845  0.235204 -3.604782  2.069794  ...   -17.938599    -3.686737   \n",
       "2528  1.861279 -1.444810 -4.129077 -1.139280  ...     1.303554     6.730114   \n",
       "3768  1.524575  6.228138  3.671491  1.229791  ...     3.455765     3.297551   \n",
       "7279  0.709579  6.471547  5.641512 -3.134641  ...     4.514553    -3.020018   \n",
       "\n",
       "      v500_9_past  v500_10_past  v500_11_past  v500_12_past  v500_13_past  \\\n",
       "1891   -20.019196    -17.912952      0.807703      5.392985     -3.395360   \n",
       "2951     5.522683     24.941422     -4.957534     -8.540872     -8.930699   \n",
       "2528     1.822527     10.064308     11.756118     -0.885604     -3.465022   \n",
       "3768    10.736714      5.624229      4.066906     -0.868753     14.969716   \n",
       "7279    -7.792196     -8.927485     12.716691      1.745074      5.965908   \n",
       "\n",
       "      v500_14_past  v500_15_past  v500_16_past  \n",
       "1891     -5.427581    -24.574867    -12.867394  \n",
       "2951     -7.392309    -17.201889    -21.524140  \n",
       "2528     -3.008861     -6.447056      4.603768  \n",
       "3768      1.926362     -2.035193     -6.027772  \n",
       "7279     -4.403340    -13.488481     -0.249121  \n",
       "\n",
       "[5 rows x 210 columns]"
      ]
     },
     "execution_count": 3,
     "metadata": {},
     "output_type": "execute_result"
    }
   ],
   "source": [
    "data = pd.read_csv(data_path/f'for_model_{compound}_{site}.csv', parse_dates=['time'])\n",
    "data.sample(5)"
   ]
  },
  {
   "cell_type": "code",
   "execution_count": 4,
   "metadata": {},
   "outputs": [
    {
     "name": "stdout",
     "output_type": "stream",
     "text": [
      "Train range: 2018-01-01 01:00:00 -> 2018-12-31 01:00:00. Length: 539\n",
      "Val range: 2019-01-01 01:00:00 -> 2019-12-31 23:00:00. Length: 734\n",
      "Test range: 2020-01-04 17:00:00 -> 2023-12-28 19:00:00. Length: 2726\n"
     ]
    }
   ],
   "source": [
    "train_data = data[(data['time'].dt.year >= 2018) & (data['time'].dt.year <= 2018)]\n",
    "val_data = data[(data['time'].dt.year >= 2019) & (data['time'].dt.year <= 2019)]\n",
    "test_data = data[(data['time'].dt.year >= 2020) & (data['time'].dt.year <= 2023)]\n",
    "\n",
    "print(f\"Train range: {train_data['time'].min()} -> {train_data['time'].max()}. Length: {len(train_data)}\")\n",
    "print(f\"Val range: {val_data['time'].min()} -> {val_data['time'].max()}. Length: {len(val_data)}\")\n",
    "print(f\"Test range: {test_data['time'].min()} -> {test_data['time'].max()}. Length: {len(test_data)}\")\n",
    "\n",
    "\n",
    "# Drop the \"time\" column as it won't be used in the model\n",
    "train_data = train_data.drop(columns=['time'])\n",
    "val_data = val_data.drop(columns=['time'])\n",
    "test_data = test_data.drop(columns=['time'])\n",
    "\n",
    "# Define the features (X) and the target (y)\n",
    "X_train = train_data.drop(columns=['flag'])\n",
    "y_train = train_data['flag']\n",
    "X_val = val_data.drop(columns=['flag'])\n",
    "y_val = val_data['flag']\n",
    "X_test = test_data.drop(columns=['flag'])\n",
    "y_test = test_data['flag']\n",
    "\n",
    "# Balanced Data - removing NaN values and associated data\n",
    "y_train = y_train.dropna()\n",
    "y_val = y_val.dropna()\n",
    "y_test = y_test.dropna()\n",
    "\n",
    "# aligning indices of features sets\n",
    "X_train = X_train.loc[y_train.index]\n",
    "X_val = X_val.loc[y_val.index]\n",
    "X_test = X_test.loc[y_test.index]"
   ]
  },
  {
   "cell_type": "markdown",
   "metadata": {},
   "source": [
    "### Model"
   ]
  },
  {
   "cell_type": "code",
   "execution_count": 5,
   "metadata": {},
   "outputs": [
    {
     "name": "stdout",
     "output_type": "stream",
     "text": [
      "Precision on Training Set = 0.852\n",
      "Precision on Validation Set = 0.909\n",
      "Recall on Training Set = 0.954\n",
      "Recall on Validation Set = 0.947\n",
      "F1 Score on Training Set = 0.900\n",
      "F1 Score on Validation Set = 0.928\n",
      "Misclassification Rate on Training Set = 0.173\n",
      "Misclassification Rate on Validation Set = 0.132\n"
     ]
    }
   ],
   "source": [
    "nn_model = MLPClassifier(random_state=42,\n",
    "                         max_iter=1000, \n",
    "                         hidden_layer_sizes=(100,), \n",
    "                         shuffle=False,\n",
    "                         activation='relu', \n",
    "                         solver='adam', \n",
    "                         alpha=0.5, \n",
    "                         learning_rate='constant', \n",
    "                         batch_size=250, \n",
    "                         early_stopping=False,\n",
    "                         learning_rate_init=0.01,\n",
    "                         beta_2=0.9,)\n",
    "\n",
    "nn_model.fit(X_train, y_train)\n",
    "\n",
    "class_probabilities_val = nn_model.predict_proba(X_val)\n",
    "class_probabilities_train = nn_model.predict_proba(X_train)\n",
    "\n",
    "confidence_threshold = cfg.confidence_threshold\n",
    "\n",
    "y_pred_val = (class_probabilities_val[:,1] > confidence_threshold).astype(int)\n",
    "y_pred_train = (class_probabilities_train[:,1] > confidence_threshold).astype(int)\n",
    "\n",
    "\n",
    "precision_val = precision_score(y_val, y_pred_val)\n",
    "precision_train = precision_score(y_train, y_pred_train)\n",
    "recall_val = recall_score(y_val, y_pred_val)\n",
    "recall_train = recall_score(y_train, y_pred_train)\n",
    "f1_val = f1_score(y_val, y_pred_val)\n",
    "f1_train = f1_score(y_train, y_pred_train)\n",
    "misclassification_rate_val = 1 - accuracy_score(y_val, y_pred_val)\n",
    "misclassification_rate_train = 1 - accuracy_score(y_train, y_pred_train)\n",
    "\n",
    "print(f\"Precision on Training Set = {precision_train:.3f}\")\n",
    "print(f\"Precision on Validation Set = {precision_val:.3f}\")\n",
    "print(f\"Recall on Training Set = {recall_train:.3f}\")\n",
    "print(f\"Recall on Validation Set = {recall_val:.3f}\")\n",
    "print(f\"F1 Score on Training Set = {f1_train:.3f}\")\n",
    "print(f\"F1 Score on Validation Set = {f1_val:.3f}\")\n",
    "print(f\"Misclassification Rate on Training Set = {misclassification_rate_train:.3f}\")\n",
    "print(f\"Misclassification Rate on Validation Set = {misclassification_rate_val:.3f}\")"
   ]
  },
  {
   "cell_type": "code",
   "execution_count": 6,
   "metadata": {},
   "outputs": [
    {
     "name": "stdout",
     "output_type": "stream",
     "text": [
      "Precision on Testing Set = 0.897\n",
      "Recall on Testing Set = 0.962\n",
      "F1 Score on Testing Set = 0.928\n",
      "Misclassification Rate on Testing Set = 0.131\n"
     ]
    }
   ],
   "source": [
    "# evaluating model on test set\n",
    "class_probabilities_test = nn_model.predict_proba(X_test)\n",
    "\n",
    "y_pred_test = (class_probabilities_test[:,1] > confidence_threshold).astype(int)\n",
    "\n",
    "precision_test = precision_score(y_test, y_pred_test)\n",
    "recall_test = recall_score(y_test, y_pred_test)\n",
    "f1_test = f1_score(y_test, y_pred_test)\n",
    "misclassification_rate_test = 1 - accuracy_score(y_test, y_pred_test)\n",
    "\n",
    "print(f\"Precision on Testing Set = {precision_test:.3f}\")\n",
    "print(f\"Recall on Testing Set = {recall_test:.3f}\")\n",
    "print(f\"F1 Score on Testing Set = {f1_test:.3f}\")\n",
    "print(f\"Misclassification Rate on Testing Set = {misclassification_rate_test:.3f}\")"
   ]
  },
  {
   "cell_type": "code",
   "execution_count": 7,
   "metadata": {},
   "outputs": [
    {
     "data": {
      "text/plain": [
       "['../model_files/nn_model_CMN.joblib']"
      ]
     },
     "execution_count": 7,
     "metadata": {},
     "output_type": "execute_result"
    }
   ],
   "source": [
    "# saving the model\n",
    "dump(nn_model, data_path/f'nn_model_{site}.joblib')\n",
    "dump(nn_model, f'../model_files/nn_model_{site}.joblib')"
   ]
  },
  {
   "cell_type": "markdown",
   "metadata": {},
   "source": [
    "### Confusion Matrix"
   ]
  },
  {
   "cell_type": "code",
   "execution_count": 8,
   "metadata": {},
   "outputs": [
    {
     "data": {
      "text/plain": [
       "Text(0.5, 1.0, 'Monte Cimone, Italy')"
      ]
     },
     "execution_count": 8,
     "metadata": {},
     "output_type": "execute_result"
    },
    {
     "data": {
      "image/png": "[encoded data removed]",
      "text/plain": [
       "<Figure size 600x600 with 2 Axes>"
      ]
     },
     "metadata": {},
     "output_type": "display_data"
    }
   ],
   "source": [
    "# creating a confusion matrix\n",
    "conf_matrix = pd.crosstab(y_test, y_pred_test, rownames=['Actual'], colnames=['Predicted'])\n",
    "\n",
    "conf_matrix.columns = ['Non-Baseline', 'Baseline']\n",
    "conf_matrix.index = ['Non-Baseline', 'Baseline']\n",
    "\n",
    "fig, ax = plt.subplots(figsize=(6, 6))\n",
    "\n",
    "sns.heatmap(conf_matrix, annot=True, fmt='d', cmap='BuPu', cbar=True, ax=ax)\n",
    "\n",
    "ax.set_xlabel('Predicted')\n",
    "ax.set_ylabel('Actual')\n",
    "\n",
    "ax.set_title(f'{site_name}')"
   ]
  },
  {
   "cell_type": "markdown",
   "metadata": {},
   "source": [
    "### Assessing Feature Importance"
   ]
  },
  {
   "cell_type": "code",
   "execution_count": 9,
   "metadata": {},
   "outputs": [],
   "source": [
    "# grouping features by category i.e. x-wind, y-wind, temporal etc.\n",
    "u_features = [col for col in data.columns if 'u' in col]\n",
    "v_features = [col for col in data.columns if 'v' in col]\n",
    "temporal_features = ['day_of_year', 'time_of_day']\n",
    "sp = ['sp']\n",
    "blh = ['blh']\n",
    "\n",
    "groups = [u_features, v_features, temporal_features, sp, blh]"
   ]
  },
  {
   "cell_type": "code",
   "execution_count": 10,
   "metadata": {},
   "outputs": [],
   "source": [
    "original_score = accuracy_score(y_train, nn_model.predict(X_train))\n",
    "importances = {}\n",
    "\n",
    "for group in groups:\n",
    "    scores_diff = []\n",
    "    for _ in range(100):\n",
    "        X_train_permuted = f.permute_group(X_train, group)\n",
    "        \n",
    "        permuted_score = accuracy_score(y_train, nn_model.predict(X_train_permuted))\n",
    "        scores_diff.append(original_score - permuted_score)\n",
    "    \n",
    "    importances[str(group)] = np.mean(scores_diff)\n",
    "\n",
    "# Sort groups by importance\n",
    "sorted_importances = sorted(importances.items(), key=lambda x: x[1], reverse=False)"
   ]
  },
  {
   "cell_type": "code",
   "execution_count": 11,
   "metadata": {},
   "outputs": [],
   "source": [
    "# matching the group names to the sorted importances\n",
    "n = len(groups)\n",
    "group_names_sorted = []\n",
    "\n",
    "for i in range(n):\n",
    "    name = sorted_importances[i][0]\n",
    "\n",
    "    if 'u10_0' in name:\n",
    "        group_names_sorted.append('u-wind')\n",
    "\n",
    "    elif 'v10_0' in name:\n",
    "        group_names_sorted.append('v-wind')\n",
    "\n",
    "    elif 'day_of_year' in name:\n",
    "        group_names_sorted.append('temporal')\n",
    "\n",
    "    elif 'sp' in name:\n",
    "        group_names_sorted.append('sp')\n",
    "\n",
    "    elif 'blh' in name:\n",
    "        group_names_sorted.append('blh')"
   ]
  },
  {
   "cell_type": "code",
   "execution_count": 12,
   "metadata": {},
   "outputs": [
    {
     "data": {
      "text/plain": [
       "Text(0, 0.5, 'Feature Group')"
      ]
     },
     "execution_count": 12,
     "metadata": {},
     "output_type": "execute_result"
    },
    {
     "data": {
      "image/png": "[encoded data removed]",
      "text/plain": [
       "<Figure size 1200x800 with 1 Axes>"
      ]
     },
     "metadata": {},
     "output_type": "display_data"
    }
   ],
   "source": [
    "# Plotting the importances of the groups\n",
    "fig, ax = plt.subplots(figsize=(12, 8))\n",
    "sns.set_theme(style='ticks', font='Arial')\n",
    "\n",
    "ax.barh(group_names_sorted, [importance for _, importance in sorted_importances], color='#FF620E')\n",
    "\n",
    "ax.set_xlabel('Importance', fontsize=12, fontstyle='italic')\n",
    "ax.set_ylabel('Feature Group', fontsize=12, fontstyle='italic')\n",
    "# ax.set_title('Permutation Importances', fontsize=14)"
   ]
  }
 ],
 "metadata": {
  "kernelspec": {
   "display_name": "venv",
   "language": "python",
   "name": "python3"
  },
  "language_info": {
   "codemirror_mode": {
    "name": "ipython",
    "version": 3
   },
   "file_extension": ".py",
   "mimetype": "text/x-python",
   "name": "python",
   "nbconvert_exporter": "python",
   "pygments_lexer": "ipython3",
   "version": "3.11.9"
  }
 },
 "nbformat": 4,
 "nbformat_minor": 2
}
