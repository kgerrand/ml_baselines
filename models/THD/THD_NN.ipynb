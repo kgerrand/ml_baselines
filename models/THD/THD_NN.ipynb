{
 "cells": [
  {
   "cell_type": "markdown",
   "metadata": {},
   "source": [
    "# Neural Network Final Model - Trinidad Head, USA"
   ]
  },
  {
   "cell_type": "code",
   "execution_count": 1,
   "metadata": {},
   "outputs": [],
   "source": [
    "import pandas as pd\n",
    "import numpy as np\n",
    "from joblib import dump\n",
    "from pathlib import Path\n",
    "import matplotlib.pyplot as plt\n",
    "import seaborn as sns\n",
    "\n",
    "from sklearn.neural_network import MLPClassifier\n",
    "from sklearn.metrics import precision_score, recall_score, f1_score, accuracy_score\n",
    "\n",
    "import sys\n",
    "sys.path.append('../../')\n",
    "import config as cfg\n",
    "import functions as f\n",
    "\n",
    "data_path = Path.home()/'OneDrive'/'Kirstin'/'Uni'/'Year4'/'MSciProject'/'data_files'/'saved_files'"
   ]
  },
  {
   "cell_type": "code",
   "execution_count": 2,
   "metadata": {},
   "outputs": [
    {
     "name": "stdout",
     "output_type": "stream",
     "text": [
      "Creating a neural network model for \u001b[1mTrinidad Head, USA\u001b[0;0m.\n"
     ]
    }
   ],
   "source": [
    "site = cfg.site\n",
    "site_name = cfg.site_dict[site]\n",
    "assert site == 'THD', 'This script is only for Trinidad Head, USA. The site can be changed in the config file.'\n",
    "\n",
    "compound = cfg.compound\n",
    "\n",
    "print(f\"Creating a neural network model for \\033[1m{site_name}\\033[0;0m.\")"
   ]
  },
  {
   "cell_type": "markdown",
   "metadata": {},
   "source": [
    "### Loading & Initialising Data"
   ]
  },
  {
   "cell_type": "code",
   "execution_count": 3,
   "metadata": {},
   "outputs": [
    {
     "data": {
      "text/html": [
       "<div>\n",
       "<style scoped>\n",
       "    .dataframe tbody tr th:only-of-type {\n",
       "        vertical-align: middle;\n",
       "    }\n",
       "\n",
       "    .dataframe tbody tr th {\n",
       "        vertical-align: top;\n",
       "    }\n",
       "\n",
       "    .dataframe thead th {\n",
       "        text-align: right;\n",
       "    }\n",
       "</style>\n",
       "<table border=\"1\" class=\"dataframe\">\n",
       "  <thead>\n",
       "    <tr style=\"text-align: right;\">\n",
       "      <th></th>\n",
       "      <th>time</th>\n",
       "      <th>flag</th>\n",
       "      <th>u10_0</th>\n",
       "      <th>u10_1</th>\n",
       "      <th>u10_2</th>\n",
       "      <th>u10_3</th>\n",
       "      <th>u10_4</th>\n",
       "      <th>u10_5</th>\n",
       "      <th>u10_6</th>\n",
       "      <th>u10_7</th>\n",
       "      <th>...</th>\n",
       "      <th>v500_7_past</th>\n",
       "      <th>v500_8_past</th>\n",
       "      <th>v500_9_past</th>\n",
       "      <th>v500_10_past</th>\n",
       "      <th>v500_11_past</th>\n",
       "      <th>v500_12_past</th>\n",
       "      <th>v500_13_past</th>\n",
       "      <th>v500_14_past</th>\n",
       "      <th>v500_15_past</th>\n",
       "      <th>v500_16_past</th>\n",
       "    </tr>\n",
       "  </thead>\n",
       "  <tbody>\n",
       "    <tr>\n",
       "      <th>4625</th>\n",
       "      <td>2004-07-31 19:00:00</td>\n",
       "      <td>1.0</td>\n",
       "      <td>2.837902</td>\n",
       "      <td>2.014466</td>\n",
       "      <td>3.168077</td>\n",
       "      <td>-0.442618</td>\n",
       "      <td>1.560074</td>\n",
       "      <td>4.875854</td>\n",
       "      <td>3.027432</td>\n",
       "      <td>1.439464</td>\n",
       "      <td>...</td>\n",
       "      <td>-12.360185</td>\n",
       "      <td>-7.097221</td>\n",
       "      <td>-6.166575</td>\n",
       "      <td>-5.687152</td>\n",
       "      <td>6.155487</td>\n",
       "      <td>4.911708</td>\n",
       "      <td>-2.640429</td>\n",
       "      <td>-4.054389</td>\n",
       "      <td>-5.975000</td>\n",
       "      <td>-3.805438</td>\n",
       "    </tr>\n",
       "    <tr>\n",
       "      <th>6853</th>\n",
       "      <td>2007-02-23 17:00:00</td>\n",
       "      <td>1.0</td>\n",
       "      <td>-1.796004</td>\n",
       "      <td>4.989864</td>\n",
       "      <td>3.730473</td>\n",
       "      <td>2.070727</td>\n",
       "      <td>1.050487</td>\n",
       "      <td>3.981821</td>\n",
       "      <td>4.626629</td>\n",
       "      <td>7.162382</td>\n",
       "      <td>...</td>\n",
       "      <td>-30.185719</td>\n",
       "      <td>-24.732296</td>\n",
       "      <td>11.772058</td>\n",
       "      <td>19.992174</td>\n",
       "      <td>19.565176</td>\n",
       "      <td>13.280146</td>\n",
       "      <td>-21.054033</td>\n",
       "      <td>-6.179462</td>\n",
       "      <td>-20.475107</td>\n",
       "      <td>-14.898542</td>\n",
       "    </tr>\n",
       "    <tr>\n",
       "      <th>14758</th>\n",
       "      <td>2022-05-16 13:00:00</td>\n",
       "      <td>1.0</td>\n",
       "      <td>2.286746</td>\n",
       "      <td>4.218522</td>\n",
       "      <td>3.251001</td>\n",
       "      <td>0.956650</td>\n",
       "      <td>1.807886</td>\n",
       "      <td>5.327806</td>\n",
       "      <td>2.342276</td>\n",
       "      <td>3.549554</td>\n",
       "      <td>...</td>\n",
       "      <td>-8.630249</td>\n",
       "      <td>3.012778</td>\n",
       "      <td>21.135511</td>\n",
       "      <td>4.309218</td>\n",
       "      <td>16.394781</td>\n",
       "      <td>11.828569</td>\n",
       "      <td>-4.886779</td>\n",
       "      <td>-8.761140</td>\n",
       "      <td>-9.970320</td>\n",
       "      <td>2.042941</td>\n",
       "    </tr>\n",
       "    <tr>\n",
       "      <th>7561</th>\n",
       "      <td>2007-12-30 11:00:00</td>\n",
       "      <td>1.0</td>\n",
       "      <td>1.584654</td>\n",
       "      <td>11.552972</td>\n",
       "      <td>7.033335</td>\n",
       "      <td>3.006163</td>\n",
       "      <td>0.720045</td>\n",
       "      <td>2.611664</td>\n",
       "      <td>-0.827704</td>\n",
       "      <td>5.576978</td>\n",
       "      <td>...</td>\n",
       "      <td>-8.635660</td>\n",
       "      <td>-9.587162</td>\n",
       "      <td>8.809163</td>\n",
       "      <td>-1.893851</td>\n",
       "      <td>-26.405657</td>\n",
       "      <td>-13.001486</td>\n",
       "      <td>-8.997786</td>\n",
       "      <td>-0.485997</td>\n",
       "      <td>-0.886922</td>\n",
       "      <td>-3.244430</td>\n",
       "    </tr>\n",
       "    <tr>\n",
       "      <th>10798</th>\n",
       "      <td>2013-03-15 03:00:00</td>\n",
       "      <td>0.0</td>\n",
       "      <td>-0.464909</td>\n",
       "      <td>1.832180</td>\n",
       "      <td>4.434869</td>\n",
       "      <td>1.667157</td>\n",
       "      <td>-0.626367</td>\n",
       "      <td>2.969011</td>\n",
       "      <td>1.191950</td>\n",
       "      <td>2.809080</td>\n",
       "      <td>...</td>\n",
       "      <td>-18.437815</td>\n",
       "      <td>-11.672218</td>\n",
       "      <td>-0.846449</td>\n",
       "      <td>-2.233742</td>\n",
       "      <td>16.286556</td>\n",
       "      <td>17.652151</td>\n",
       "      <td>1.766762</td>\n",
       "      <td>-17.549566</td>\n",
       "      <td>-17.587538</td>\n",
       "      <td>-13.256146</td>\n",
       "    </tr>\n",
       "  </tbody>\n",
       "</table>\n",
       "<p>5 rows × 210 columns</p>\n",
       "</div>"
      ],
      "text/plain": [
       "                     time  flag     u10_0      u10_1     u10_2     u10_3  \\\n",
       "4625  2004-07-31 19:00:00   1.0  2.837902   2.014466  3.168077 -0.442618   \n",
       "6853  2007-02-23 17:00:00   1.0 -1.796004   4.989864  3.730473  2.070727   \n",
       "14758 2022-05-16 13:00:00   1.0  2.286746   4.218522  3.251001  0.956650   \n",
       "7561  2007-12-30 11:00:00   1.0  1.584654  11.552972  7.033335  3.006163   \n",
       "10798 2013-03-15 03:00:00   0.0 -0.464909   1.832180  4.434869  1.667157   \n",
       "\n",
       "          u10_4     u10_5     u10_6     u10_7  ...  v500_7_past  v500_8_past  \\\n",
       "4625   1.560074  4.875854  3.027432  1.439464  ...   -12.360185    -7.097221   \n",
       "6853   1.050487  3.981821  4.626629  7.162382  ...   -30.185719   -24.732296   \n",
       "14758  1.807886  5.327806  2.342276  3.549554  ...    -8.630249     3.012778   \n",
       "7561   0.720045  2.611664 -0.827704  5.576978  ...    -8.635660    -9.587162   \n",
       "10798 -0.626367  2.969011  1.191950  2.809080  ...   -18.437815   -11.672218   \n",
       "\n",
       "       v500_9_past  v500_10_past  v500_11_past  v500_12_past  v500_13_past  \\\n",
       "4625     -6.166575     -5.687152      6.155487      4.911708     -2.640429   \n",
       "6853     11.772058     19.992174     19.565176     13.280146    -21.054033   \n",
       "14758    21.135511      4.309218     16.394781     11.828569     -4.886779   \n",
       "7561      8.809163     -1.893851    -26.405657    -13.001486     -8.997786   \n",
       "10798    -0.846449     -2.233742     16.286556     17.652151      1.766762   \n",
       "\n",
       "       v500_14_past  v500_15_past  v500_16_past  \n",
       "4625      -4.054389     -5.975000     -3.805438  \n",
       "6853      -6.179462    -20.475107    -14.898542  \n",
       "14758     -8.761140     -9.970320      2.042941  \n",
       "7561      -0.485997     -0.886922     -3.244430  \n",
       "10798    -17.549566    -17.587538    -13.256146  \n",
       "\n",
       "[5 rows x 210 columns]"
      ]
     },
     "execution_count": 3,
     "metadata": {},
     "output_type": "execute_result"
    }
   ],
   "source": [
    "data = pd.read_csv(data_path/f'for_model_{compound}_{site}.csv', parse_dates=['time'])\n",
    "data.sample(5)"
   ]
  },
  {
   "cell_type": "code",
   "execution_count": 4,
   "metadata": {},
   "outputs": [
    {
     "name": "stdout",
     "output_type": "stream",
     "text": [
      "Train range: 2018-01-04 09:00:00 -> 2018-12-31 05:00:00. Length: 421\n",
      "Val range: 2019-01-01 23:00:00 -> 2019-12-31 13:00:00. Length: 426\n",
      "Test range: 2020-01-03 19:00:00 -> 2023-09-18 17:00:00. Length: 1549\n"
     ]
    }
   ],
   "source": [
    "train_data = data[(data['time'].dt.year >= 2018) & (data['time'].dt.year <= 2018)]\n",
    "val_data = data[(data['time'].dt.year >= 2019) & (data['time'].dt.year <= 2019)]\n",
    "test_data = data[(data['time'].dt.year >= 2020) & (data['time'].dt.year <= 2023)]\n",
    "\n",
    "print(f\"Train range: {train_data['time'].min()} -> {train_data['time'].max()}. Length: {len(train_data)}\")\n",
    "print(f\"Val range: {val_data['time'].min()} -> {val_data['time'].max()}. Length: {len(val_data)}\")\n",
    "print(f\"Test range: {test_data['time'].min()} -> {test_data['time'].max()}. Length: {len(test_data)}\")\n",
    "\n",
    "\n",
    "# Drop the \"time\" column as it won't be used in the model\n",
    "train_data = train_data.drop(columns=['time'])\n",
    "val_data = val_data.drop(columns=['time'])\n",
    "test_data = test_data.drop(columns=['time'])\n",
    "\n",
    "# Define the features (X) and the target (y)\n",
    "X_train = train_data.drop(columns=['flag'])\n",
    "y_train = train_data['flag']\n",
    "X_val = val_data.drop(columns=['flag'])\n",
    "y_val = val_data['flag']\n",
    "X_test = test_data.drop(columns=['flag'])\n",
    "y_test = test_data['flag']\n",
    "\n",
    "# Balanced Data - removing NaN values and associated data\n",
    "y_train = y_train.dropna()\n",
    "y_val = y_val.dropna()\n",
    "y_test = y_test.dropna()\n",
    "\n",
    "# aligning indices of features sets\n",
    "X_train = X_train.loc[y_train.index]\n",
    "X_val = X_val.loc[y_val.index]\n",
    "X_test = X_test.loc[y_test.index]"
   ]
  },
  {
   "cell_type": "markdown",
   "metadata": {},
   "source": [
    "### Model"
   ]
  },
  {
   "cell_type": "code",
   "execution_count": 5,
   "metadata": {},
   "outputs": [
    {
     "name": "stdout",
     "output_type": "stream",
     "text": [
      "Precision on Training Set = 0.939\n",
      "Precision on Validation Set = 0.892\n",
      "Recall on Training Set = 0.903\n",
      "Recall on Validation Set = 0.741\n",
      "F1 Score on Training Set = 0.920\n",
      "F1 Score on Validation Set = 0.810\n",
      "Misclassification Rate on Training Set = 0.107\n",
      "Misclassification Rate on Validation Set = 0.237\n"
     ]
    }
   ],
   "source": [
    "nn_model = MLPClassifier(random_state=42,\n",
    "                         max_iter=1000, \n",
    "                         hidden_layer_sizes=(100,), \n",
    "                         shuffle=False,\n",
    "                         activation='relu', \n",
    "                         solver='adam', \n",
    "                         alpha=0.05, \n",
    "                         learning_rate='constant', \n",
    "                         batch_size=100, \n",
    "                         early_stopping=True,\n",
    "                         learning_rate_init=0.001,\n",
    "                         beta_2=0.9,)\n",
    "\n",
    "nn_model.fit(X_train, y_train)\n",
    "\n",
    "class_probabilities_val = nn_model.predict_proba(X_val)\n",
    "class_probabilities_train = nn_model.predict_proba(X_train)\n",
    "\n",
    "confidence_threshold = cfg.confidence_threshold\n",
    "\n",
    "y_pred_val = (class_probabilities_val[:,1] > confidence_threshold).astype(int)\n",
    "y_pred_train = (class_probabilities_train[:,1] > confidence_threshold).astype(int)\n",
    "\n",
    "precision_val = precision_score(y_val, y_pred_val)\n",
    "precision_train = precision_score(y_train, y_pred_train)\n",
    "recall_val = recall_score(y_val, y_pred_val)\n",
    "recall_train = recall_score(y_train, y_pred_train)\n",
    "f1_val = f1_score(y_val, y_pred_val)\n",
    "f1_train = f1_score(y_train, y_pred_train)\n",
    "misclassification_rate_val = 1 - accuracy_score(y_val, y_pred_val)\n",
    "misclassification_rate_train = 1 - accuracy_score(y_train, y_pred_train)\n",
    "\n",
    "print(f\"Precision on Training Set = {precision_train:.3f}\")\n",
    "print(f\"Precision on Validation Set = {precision_val:.3f}\")\n",
    "print(f\"Recall on Training Set = {recall_train:.3f}\")\n",
    "print(f\"Recall on Validation Set = {recall_val:.3f}\")\n",
    "print(f\"F1 Score on Training Set = {f1_train:.3f}\")\n",
    "print(f\"F1 Score on Validation Set = {f1_val:.3f}\")\n",
    "print(f\"Misclassification Rate on Training Set = {misclassification_rate_train:.3f}\")\n",
    "print(f\"Misclassification Rate on Validation Set = {misclassification_rate_val:.3f}\")"
   ]
  },
  {
   "cell_type": "code",
   "execution_count": 6,
   "metadata": {},
   "outputs": [
    {
     "name": "stdout",
     "output_type": "stream",
     "text": [
      "Precision on Testing Set = 0.878\n",
      "Recall on Testing Set = 0.874\n",
      "F1 Score on Testing Set = 0.876\n",
      "Misclassification Rate on Testing Set = 0.168\n"
     ]
    }
   ],
   "source": [
    "# evaluating model on test set\n",
    "class_probabilities_test = nn_model.predict_proba(X_test)\n",
    "\n",
    "y_pred_test = (class_probabilities_test[:,1] > confidence_threshold).astype(int)\n",
    "\n",
    "precision_test = precision_score(y_test, y_pred_test)\n",
    "recall_test = recall_score(y_test, y_pred_test)\n",
    "f1_test = f1_score(y_test, y_pred_test)\n",
    "misclassification_rate_test = 1 - accuracy_score(y_test, y_pred_test)\n",
    "\n",
    "print(f\"Precision on Testing Set = {precision_test:.3f}\")\n",
    "print(f\"Recall on Testing Set = {recall_test:.3f}\")\n",
    "print(f\"F1 Score on Testing Set = {f1_test:.3f}\")\n",
    "print(f\"Misclassification Rate on Testing Set = {misclassification_rate_test:.3f}\")"
   ]
  },
  {
   "cell_type": "code",
   "execution_count": 7,
   "metadata": {},
   "outputs": [
    {
     "data": {
      "text/plain": [
       "['../model_files/nn_model_THD.joblib']"
      ]
     },
     "execution_count": 7,
     "metadata": {},
     "output_type": "execute_result"
    }
   ],
   "source": [
    "# saving the model\n",
    "dump(nn_model, data_path/f'nn_model_{site}.joblib')\n",
    "dump(nn_model, f'../model_files/nn_model_{site}.joblib')"
   ]
  },
  {
   "cell_type": "markdown",
   "metadata": {},
   "source": [
    "### Confusion Matrix"
   ]
  },
  {
   "cell_type": "code",
   "execution_count": 8,
   "metadata": {},
   "outputs": [
    {
     "data": {
      "text/plain": [
       "Text(0.5, 1.0, 'Trinidad Head, USA')"
      ]
     },
     "execution_count": 8,
     "metadata": {},
     "output_type": "execute_result"
    },
    {
     "data": {
      "image/png": "[encoded data removed]",
      "text/plain": [
       "<Figure size 600x600 with 2 Axes>"
      ]
     },
     "metadata": {},
     "output_type": "display_data"
    }
   ],
   "source": [
    "# creating a confusion matrix\n",
    "conf_matrix = pd.crosstab(y_test, y_pred_test, rownames=['Actual'], colnames=['Predicted'])\n",
    "\n",
    "conf_matrix.columns = ['Non-Baseline', 'Baseline']\n",
    "conf_matrix.index = ['Non-Baseline', 'Baseline']\n",
    "\n",
    "fig, ax = plt.subplots(figsize=(6, 6))\n",
    "\n",
    "sns.heatmap(conf_matrix, annot=True, fmt='d', cmap='BuPu', cbar=True, ax=ax)\n",
    "\n",
    "ax.set_xlabel('Predicted')\n",
    "ax.set_ylabel('Actual')\n",
    "\n",
    "ax.set_title(f'{site_name}')"
   ]
  },
  {
   "cell_type": "markdown",
   "metadata": {},
   "source": [
    "### Assessing Feature Importance"
   ]
  },
  {
   "cell_type": "code",
   "execution_count": 9,
   "metadata": {},
   "outputs": [],
   "source": [
    "# grouping features by category i.e. x-wind, y-wind, temporal etc.\n",
    "u_features = [col for col in data.columns if 'u' in col]\n",
    "v_features = [col for col in data.columns if 'v' in col]\n",
    "temporal_features = ['day_of_year', 'time_of_day']\n",
    "sp = ['sp']\n",
    "blh = ['blh']\n",
    "\n",
    "groups = [u_features, v_features, temporal_features, sp, blh]"
   ]
  },
  {
   "cell_type": "code",
   "execution_count": 10,
   "metadata": {},
   "outputs": [],
   "source": [
    "original_score = accuracy_score(y_train, nn_model.predict(X_train))\n",
    "importances = {}\n",
    "\n",
    "for group in groups:\n",
    "    scores_diff = []\n",
    "    for _ in range(100):\n",
    "        X_train_permuted = f.permute_group(X_train, group)\n",
    "        \n",
    "        permuted_score = accuracy_score(y_train, nn_model.predict(X_train_permuted))\n",
    "        scores_diff.append(original_score - permuted_score)\n",
    "    \n",
    "    importances[str(group)] = np.mean(scores_diff)\n",
    "\n",
    "# Sort groups by importance\n",
    "sorted_importances = sorted(importances.items(), key=lambda x: x[1], reverse=False)"
   ]
  },
  {
   "cell_type": "code",
   "execution_count": 11,
   "metadata": {},
   "outputs": [],
   "source": [
    "# matching the group names to the sorted importances\n",
    "n = len(groups)\n",
    "group_names_sorted = []\n",
    "\n",
    "for i in range(n):\n",
    "    name = sorted_importances[i][0]\n",
    "\n",
    "    if 'u10_0' in name:\n",
    "        group_names_sorted.append('u-wind')\n",
    "\n",
    "    elif 'v10_0' in name:\n",
    "        group_names_sorted.append('v-wind')\n",
    "\n",
    "    elif 'day_of_year' in name:\n",
    "        group_names_sorted.append('temporal')\n",
    "\n",
    "    elif 'sp' in name:\n",
    "        group_names_sorted.append('sp')\n",
    "\n",
    "    elif 'blh' in name:\n",
    "        group_names_sorted.append('blh')"
   ]
  },
  {
   "cell_type": "code",
   "execution_count": 12,
   "metadata": {},
   "outputs": [
    {
     "data": {
      "text/plain": [
       "Text(0, 0.5, 'Feature Group')"
      ]
     },
     "execution_count": 12,
     "metadata": {},
     "output_type": "execute_result"
    },
    {
     "data": {
      "image/png": "[encoded data removed]",
      "text/plain": [
       "<Figure size 1200x800 with 1 Axes>"
      ]
     },
     "metadata": {},
     "output_type": "display_data"
    }
   ],
   "source": [
    "# Plotting the importances of the groups\n",
    "fig, ax = plt.subplots(figsize=(12, 8))\n",
    "sns.set_theme(style='ticks', font='Arial')\n",
    "\n",
    "ax.barh(group_names_sorted, [importance for _, importance in sorted_importances], color='#FF620E')\n",
    "\n",
    "ax.set_xlabel('Importance', fontsize=12, fontstyle='italic')\n",
    "ax.set_ylabel('Feature Group', fontsize=12, fontstyle='italic')\n",
    "# ax.set_title('Permutation Importances', fontsize=14)"
   ]
  }
 ],
 "metadata": {
  "kernelspec": {
   "display_name": "venv",
   "language": "python",
   "name": "python3"
  },
  "language_info": {
   "codemirror_mode": {
    "name": "ipython",
    "version": 3
   },
   "file_extension": ".py",
   "mimetype": "text/x-python",
   "name": "python",
   "nbconvert_exporter": "python",
   "pygments_lexer": "ipython3",
   "version": "3.11.9"
  }
 },
 "nbformat": 4,
 "nbformat_minor": 2
}
