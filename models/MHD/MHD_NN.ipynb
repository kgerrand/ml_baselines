{
 "cells": [
  {
   "cell_type": "markdown",
   "metadata": {},
   "source": [
    "# Neural Network Final Model - Mace Head, Ireland"
   ]
  },
  {
   "cell_type": "code",
   "execution_count": 1,
   "metadata": {},
   "outputs": [],
   "source": [
    "import pandas as pd\n",
    "import numpy as np\n",
    "from joblib import dump\n",
    "from pathlib import Path\n",
    "import matplotlib.pyplot as plt\n",
    "import seaborn as sns\n",
    "\n",
    "from sklearn.neural_network import MLPClassifier\n",
    "from sklearn.metrics import precision_score, recall_score, f1_score, accuracy_score\n",
    "\n",
    "import sys\n",
    "sys.path.append('../../')\n",
    "import config as cfg\n",
    "import functions as f\n",
    "\n",
    "data_path = Path.home()/'OneDrive'/'Kirstin'/'Uni'/'Year4'/'MSciProject'/'data_files'/'saved_files'"
   ]
  },
  {
   "cell_type": "code",
   "execution_count": 2,
   "metadata": {},
   "outputs": [
    {
     "name": "stdout",
     "output_type": "stream",
     "text": [
      "Creating a neural network model for \u001b[1mMace Head, Ireland\u001b[0;0m.\n"
     ]
    }
   ],
   "source": [
    "site = cfg.site\n",
    "site_name = cfg.site_dict[site]\n",
    "assert site == 'MHD', 'This script is only for Mace Head, Ireland. The site can be changed in the config file.'\n",
    "\n",
    "compound = cfg.compound\n",
    "\n",
    "print(f\"Creating a neural network model for \\033[1m{site_name}\\033[0;0m.\")"
   ]
  },
  {
   "cell_type": "markdown",
   "metadata": {},
   "source": [
    "### Loading & Initialising Data"
   ]
  },
  {
   "cell_type": "code",
   "execution_count": 3,
   "metadata": {},
   "outputs": [
    {
     "data": {
      "text/html": [
       "<div>\n",
       "<style scoped>\n",
       "    .dataframe tbody tr th:only-of-type {\n",
       "        vertical-align: middle;\n",
       "    }\n",
       "\n",
       "    .dataframe tbody tr th {\n",
       "        vertical-align: top;\n",
       "    }\n",
       "\n",
       "    .dataframe thead th {\n",
       "        text-align: right;\n",
       "    }\n",
       "</style>\n",
       "<table border=\"1\" class=\"dataframe\">\n",
       "  <thead>\n",
       "    <tr style=\"text-align: right;\">\n",
       "      <th></th>\n",
       "      <th>time</th>\n",
       "      <th>flag</th>\n",
       "      <th>u10_0</th>\n",
       "      <th>u10_1</th>\n",
       "      <th>u10_2</th>\n",
       "      <th>u10_3</th>\n",
       "      <th>u10_4</th>\n",
       "      <th>u10_5</th>\n",
       "      <th>u10_6</th>\n",
       "      <th>u10_7</th>\n",
       "      <th>...</th>\n",
       "      <th>v500_7_past</th>\n",
       "      <th>v500_8_past</th>\n",
       "      <th>v500_9_past</th>\n",
       "      <th>v500_10_past</th>\n",
       "      <th>v500_11_past</th>\n",
       "      <th>v500_12_past</th>\n",
       "      <th>v500_13_past</th>\n",
       "      <th>v500_14_past</th>\n",
       "      <th>v500_15_past</th>\n",
       "      <th>v500_16_past</th>\n",
       "    </tr>\n",
       "  </thead>\n",
       "  <tbody>\n",
       "    <tr>\n",
       "      <th>45124</th>\n",
       "      <td>2022-02-24 19:00:00</td>\n",
       "      <td>1.0</td>\n",
       "      <td>11.722345</td>\n",
       "      <td>12.179405</td>\n",
       "      <td>9.219008</td>\n",
       "      <td>12.468500</td>\n",
       "      <td>10.045916</td>\n",
       "      <td>8.962214</td>\n",
       "      <td>6.983769</td>\n",
       "      <td>13.261494</td>\n",
       "      <td>...</td>\n",
       "      <td>-21.934242</td>\n",
       "      <td>-5.459039</td>\n",
       "      <td>-6.798431</td>\n",
       "      <td>3.831064</td>\n",
       "      <td>0.390095</td>\n",
       "      <td>-1.043500</td>\n",
       "      <td>-7.596585</td>\n",
       "      <td>3.654648</td>\n",
       "      <td>-12.950726</td>\n",
       "      <td>-10.465487</td>\n",
       "    </tr>\n",
       "    <tr>\n",
       "      <th>43261</th>\n",
       "      <td>2020-10-09 09:00:00</td>\n",
       "      <td>1.0</td>\n",
       "      <td>5.809920</td>\n",
       "      <td>7.593785</td>\n",
       "      <td>3.703040</td>\n",
       "      <td>9.075731</td>\n",
       "      <td>3.517524</td>\n",
       "      <td>4.405091</td>\n",
       "      <td>5.140608</td>\n",
       "      <td>7.605425</td>\n",
       "      <td>...</td>\n",
       "      <td>-9.817529</td>\n",
       "      <td>-8.320409</td>\n",
       "      <td>-13.587190</td>\n",
       "      <td>13.133530</td>\n",
       "      <td>4.657611</td>\n",
       "      <td>4.953096</td>\n",
       "      <td>0.178789</td>\n",
       "      <td>-4.534631</td>\n",
       "      <td>-12.373018</td>\n",
       "      <td>-13.603307</td>\n",
       "    </tr>\n",
       "    <tr>\n",
       "      <th>47133</th>\n",
       "      <td>2023-12-11 03:00:00</td>\n",
       "      <td>1.0</td>\n",
       "      <td>5.185839</td>\n",
       "      <td>-2.301144</td>\n",
       "      <td>-5.052729</td>\n",
       "      <td>9.137759</td>\n",
       "      <td>5.758923</td>\n",
       "      <td>7.467182</td>\n",
       "      <td>6.519632</td>\n",
       "      <td>-3.105030</td>\n",
       "      <td>...</td>\n",
       "      <td>-7.599284</td>\n",
       "      <td>0.147709</td>\n",
       "      <td>0.688230</td>\n",
       "      <td>1.024808</td>\n",
       "      <td>12.397144</td>\n",
       "      <td>-9.045428</td>\n",
       "      <td>8.398144</td>\n",
       "      <td>21.095398</td>\n",
       "      <td>3.022883</td>\n",
       "      <td>-7.025961</td>\n",
       "    </tr>\n",
       "    <tr>\n",
       "      <th>38091</th>\n",
       "      <td>2016-09-22 07:00:00</td>\n",
       "      <td>1.0</td>\n",
       "      <td>2.952338</td>\n",
       "      <td>0.188922</td>\n",
       "      <td>0.501532</td>\n",
       "      <td>3.996081</td>\n",
       "      <td>1.708962</td>\n",
       "      <td>2.289889</td>\n",
       "      <td>6.823688</td>\n",
       "      <td>9.553082</td>\n",
       "      <td>...</td>\n",
       "      <td>13.912318</td>\n",
       "      <td>16.682232</td>\n",
       "      <td>27.018066</td>\n",
       "      <td>24.513208</td>\n",
       "      <td>14.674183</td>\n",
       "      <td>-4.731871</td>\n",
       "      <td>2.975597</td>\n",
       "      <td>-0.882299</td>\n",
       "      <td>15.155727</td>\n",
       "      <td>-6.695512</td>\n",
       "    </tr>\n",
       "    <tr>\n",
       "      <th>41090</th>\n",
       "      <td>2019-01-16 23:00:00</td>\n",
       "      <td>0.0</td>\n",
       "      <td>3.285324</td>\n",
       "      <td>-2.469867</td>\n",
       "      <td>1.211838</td>\n",
       "      <td>6.215339</td>\n",
       "      <td>11.388090</td>\n",
       "      <td>6.960862</td>\n",
       "      <td>5.014828</td>\n",
       "      <td>-0.634153</td>\n",
       "      <td>...</td>\n",
       "      <td>-26.384470</td>\n",
       "      <td>-24.247131</td>\n",
       "      <td>-31.166931</td>\n",
       "      <td>-4.126611</td>\n",
       "      <td>21.028603</td>\n",
       "      <td>6.468814</td>\n",
       "      <td>4.950440</td>\n",
       "      <td>-23.377594</td>\n",
       "      <td>-27.519516</td>\n",
       "      <td>-11.559173</td>\n",
       "    </tr>\n",
       "  </tbody>\n",
       "</table>\n",
       "<p>5 rows × 210 columns</p>\n",
       "</div>"
      ],
      "text/plain": [
       "                     time  flag      u10_0      u10_1     u10_2      u10_3  \\\n",
       "45124 2022-02-24 19:00:00   1.0  11.722345  12.179405  9.219008  12.468500   \n",
       "43261 2020-10-09 09:00:00   1.0   5.809920   7.593785  3.703040   9.075731   \n",
       "47133 2023-12-11 03:00:00   1.0   5.185839  -2.301144 -5.052729   9.137759   \n",
       "38091 2016-09-22 07:00:00   1.0   2.952338   0.188922  0.501532   3.996081   \n",
       "41090 2019-01-16 23:00:00   0.0   3.285324  -2.469867  1.211838   6.215339   \n",
       "\n",
       "           u10_4     u10_5     u10_6      u10_7  ...  v500_7_past  \\\n",
       "45124  10.045916  8.962214  6.983769  13.261494  ...   -21.934242   \n",
       "43261   3.517524  4.405091  5.140608   7.605425  ...    -9.817529   \n",
       "47133   5.758923  7.467182  6.519632  -3.105030  ...    -7.599284   \n",
       "38091   1.708962  2.289889  6.823688   9.553082  ...    13.912318   \n",
       "41090  11.388090  6.960862  5.014828  -0.634153  ...   -26.384470   \n",
       "\n",
       "       v500_8_past  v500_9_past  v500_10_past  v500_11_past  v500_12_past  \\\n",
       "45124    -5.459039    -6.798431      3.831064      0.390095     -1.043500   \n",
       "43261    -8.320409   -13.587190     13.133530      4.657611      4.953096   \n",
       "47133     0.147709     0.688230      1.024808     12.397144     -9.045428   \n",
       "38091    16.682232    27.018066     24.513208     14.674183     -4.731871   \n",
       "41090   -24.247131   -31.166931     -4.126611     21.028603      6.468814   \n",
       "\n",
       "       v500_13_past  v500_14_past  v500_15_past  v500_16_past  \n",
       "45124     -7.596585      3.654648    -12.950726    -10.465487  \n",
       "43261      0.178789     -4.534631    -12.373018    -13.603307  \n",
       "47133      8.398144     21.095398      3.022883     -7.025961  \n",
       "38091      2.975597     -0.882299     15.155727     -6.695512  \n",
       "41090      4.950440    -23.377594    -27.519516    -11.559173  \n",
       "\n",
       "[5 rows x 210 columns]"
      ]
     },
     "execution_count": 3,
     "metadata": {},
     "output_type": "execute_result"
    }
   ],
   "source": [
    "data = pd.read_csv(data_path/f'for_model_{compound}_{site}.csv', parse_dates=['time'])\n",
    "data.sample(5)"
   ]
  },
  {
   "cell_type": "code",
   "execution_count": 4,
   "metadata": {},
   "outputs": [
    {
     "name": "stdout",
     "output_type": "stream",
     "text": [
      "Train range: 2018-01-01 01:00:00 -> 2018-12-31 19:00:00. Length: 1344\n",
      "Val range: 2019-01-03 07:00:00 -> 2019-12-30 11:00:00. Length: 1053\n",
      "Test range: 1989-02-04 13:00:00 -> 2023-12-31 23:00:00. Length: 44839\n"
     ]
    }
   ],
   "source": [
    "train_data = data[(data['time'].dt.year >= 2018) & (data['time'].dt.year <= 2018)]\n",
    "val_data = data[(data['time'].dt.year >= 2019) & (data['time'].dt.year <= 2019)]\n",
    "# testing set is all remaining datapoints\n",
    "test_data = data[~data.index.isin(train_data.index) & ~data.index.isin(val_data.index)]\n",
    "\n",
    "print(f\"Train range: {train_data['time'].min()} -> {train_data['time'].max()}. Length: {len(train_data)}\")\n",
    "print(f\"Val range: {val_data['time'].min()} -> {val_data['time'].max()}. Length: {len(val_data)}\")\n",
    "print(f\"Test range: {test_data['time'].min()} -> {test_data['time'].max()}. Length: {len(test_data)}\")\n",
    "\n",
    "\n",
    "# Drop the \"time\" column as it won't be used in the model\n",
    "train_data = train_data.drop(columns=['time'])\n",
    "val_data = val_data.drop(columns=['time'])\n",
    "test_data = test_data.drop(columns=['time'])\n",
    "\n",
    "# Define the features (X) and the target (y)\n",
    "X_train = train_data.drop(columns=['flag'])\n",
    "y_train = train_data['flag']\n",
    "X_val = val_data.drop(columns=['flag'])\n",
    "y_val = val_data['flag']\n",
    "X_test = test_data.drop(columns=['flag'])\n",
    "y_test = test_data['flag']\n",
    "\n",
    "# Balanced Data - removing NaN values and associated data\n",
    "y_train = y_train.dropna()\n",
    "y_val = y_val.dropna()\n",
    "y_test = y_test.dropna()\n",
    "\n",
    "# aligning indices of features sets\n",
    "X_train = X_train.loc[y_train.index]\n",
    "X_val = X_val.loc[y_val.index]\n",
    "X_test = X_test.loc[y_test.index]"
   ]
  },
  {
   "cell_type": "markdown",
   "metadata": {},
   "source": [
    "### Model"
   ]
  },
  {
   "cell_type": "code",
   "execution_count": 9,
   "metadata": {},
   "outputs": [
    {
     "name": "stdout",
     "output_type": "stream",
     "text": [
      "Precision on Training Set = 0.925\n",
      "Precision on Validation Set = 0.866\n",
      "Recall on Training Set = 0.880\n",
      "Recall on Validation Set = 0.856\n",
      "F1 Score on Training Set = 0.902\n",
      "F1 Score on Validation Set = 0.861\n",
      "Misclassification Rate on Training Set = 0.156\n",
      "Misclassification Rate on Validation Set = 0.200\n"
     ]
    }
   ],
   "source": [
    "nn_model = MLPClassifier(random_state=42,\n",
    "                         max_iter=1000, \n",
    "                         hidden_layer_sizes=(200,), \n",
    "                         shuffle=False,\n",
    "                         activation='relu', \n",
    "                         solver='adam', \n",
    "                         alpha=0.05, \n",
    "                         learning_rate='constant', \n",
    "                         batch_size=100, \n",
    "                         early_stopping=True,\n",
    "                         learning_rate_init=0.01,\n",
    "                         beta_2=0.9,)\n",
    "\n",
    "nn_model.fit(X_train, y_train)\n",
    "\n",
    "class_probabilities_val = nn_model.predict_proba(X_val)\n",
    "class_probabilities_train = nn_model.predict_proba(X_train)\n",
    "\n",
    "confidence_threshold = cfg.confidence_threshold\n",
    "\n",
    "y_pred_val = (class_probabilities_val[:,1] > confidence_threshold).astype(int)\n",
    "y_pred_train = (class_probabilities_train[:,1] > confidence_threshold).astype(int)\n",
    "\n",
    "precision_val = precision_score(y_val, y_pred_val)\n",
    "precision_train = precision_score(y_train, y_pred_train)\n",
    "recall_val = recall_score(y_val, y_pred_val)\n",
    "recall_train = recall_score(y_train, y_pred_train)\n",
    "f1_val = f1_score(y_val, y_pred_val)\n",
    "f1_train = f1_score(y_train, y_pred_train)\n",
    "misclassification_rate_val = 1 - accuracy_score(y_val, y_pred_val)\n",
    "misclassification_rate_train = 1 - accuracy_score(y_train, y_pred_train)\n",
    "\n",
    "\n",
    "print(f\"Precision on Training Set = {precision_train:.3f}\")\n",
    "print(f\"Precision on Validation Set = {precision_val:.3f}\")\n",
    "print(f\"Recall on Training Set = {recall_train:.3f}\")\n",
    "print(f\"Recall on Validation Set = {recall_val:.3f}\")\n",
    "print(f\"F1 Score on Training Set = {f1_train:.3f}\")\n",
    "print(f\"F1 Score on Validation Set = {f1_val:.3f}\")\n",
    "print(f\"Misclassification Rate on Training Set = {misclassification_rate_train:.3f}\")\n",
    "print(f\"Misclassification Rate on Validation Set = {misclassification_rate_val:.3f}\")"
   ]
  },
  {
   "cell_type": "code",
   "execution_count": 10,
   "metadata": {},
   "outputs": [
    {
     "name": "stdout",
     "output_type": "stream",
     "text": [
      "Precision on Testing Set = 0.906\n",
      "Recall on Testing Set = 0.794\n",
      "F1 Score on Testing Set = 0.846\n",
      "Misclassification Rate on Testing Set = 0.231\n"
     ]
    }
   ],
   "source": [
    "class_probabilities_test = nn_model.predict_proba(X_test)\n",
    "\n",
    "y_pred_test = (class_probabilities_test[:,1] > confidence_threshold).astype(int)\n",
    "\n",
    "precision_test = precision_score(y_test, y_pred_test)\n",
    "recall_test = recall_score(y_test, y_pred_test)\n",
    "f1_test = f1_score(y_test, y_pred_test)\n",
    "misclassification_rate_test = 1 - accuracy_score(y_test, y_pred_test)\n",
    "\n",
    "print(f\"Precision on Testing Set = {precision_test:.3f}\")\n",
    "print(f\"Recall on Testing Set = {recall_test:.3f}\")\n",
    "print(f\"F1 Score on Testing Set = {f1_test:.3f}\")\n",
    "print(f\"Misclassification Rate on Testing Set = {misclassification_rate_test:.3f}\")"
   ]
  },
  {
   "cell_type": "code",
   "execution_count": 11,
   "metadata": {},
   "outputs": [
    {
     "data": {
      "text/plain": [
       "['../model_files/nn_model_MHD.joblib']"
      ]
     },
     "execution_count": 11,
     "metadata": {},
     "output_type": "execute_result"
    }
   ],
   "source": [
    "# saving the model\n",
    "dump(nn_model, f'../model_files/nn_model_{site}.joblib')"
   ]
  },
  {
   "cell_type": "markdown",
   "metadata": {},
   "source": [
    "### Confusion Matrix"
   ]
  },
  {
   "cell_type": "code",
   "execution_count": 12,
   "metadata": {},
   "outputs": [
    {
     "data": {
      "text/plain": [
       "Text(0.5, 1.0, 'Mace Head, Ireland')"
      ]
     },
     "execution_count": 12,
     "metadata": {},
     "output_type": "execute_result"
    },
    {
     "data": {
      "image/png": "[encoded data removed]",
      "text/plain": [
       "<Figure size 800x300 with 2 Axes>"
      ]
     },
     "metadata": {},
     "output_type": "display_data"
    }
   ],
   "source": [
    "# creating a confusion matrix\n",
    "conf_matrix = pd.crosstab(y_test, y_pred_test, rownames=['Actual'], colnames=['Predicted'])\n",
    "\n",
    "conf_matrix.columns = ['Non-Baseline', 'Baseline']\n",
    "conf_matrix.index = ['Non-Baseline', 'Baseline']\n",
    "\n",
    "fig, ax = plt.subplots(figsize=(8,3))\n",
    "sns.set(font_scale=1.2)\n",
    "sns.set_theme(style='ticks', font='Arial')\n",
    "\n",
    "sns.heatmap(conf_matrix, annot=True, fmt='d', cmap='BuPu', cbar=True, ax=ax)\n",
    "\n",
    "ax.set_xlabel('Predicted')\n",
    "ax.set_ylabel('Actual')\n",
    "\n",
    "ax.set_title(f'{site_name}')"
   ]
  },
  {
   "cell_type": "markdown",
   "metadata": {},
   "source": [
    "### Assessing Feature Importance"
   ]
  },
  {
   "cell_type": "code",
   "execution_count": 13,
   "metadata": {},
   "outputs": [],
   "source": [
    "# grouping features by category i.e. x-wind, y-wind, temporal etc.\n",
    "u_features = [col for col in data.columns if 'u' in col]\n",
    "v_features = [col for col in data.columns if 'v' in col]\n",
    "temporal_features = ['day_of_year', 'time_of_day']\n",
    "sp = ['sp']\n",
    "blh = ['blh']\n",
    "\n",
    "groups = [u_features, v_features, temporal_features, sp, blh]"
   ]
  },
  {
   "cell_type": "code",
   "execution_count": 14,
   "metadata": {},
   "outputs": [],
   "source": [
    "original_score = accuracy_score(y_train, nn_model.predict(X_train))\n",
    "importances = {}\n",
    "\n",
    "for group in groups:\n",
    "    scores_diff = []\n",
    "    for _ in range(100):\n",
    "        X_train_permuted = f.permute_group(X_train, group)\n",
    "        \n",
    "        permuted_score = accuracy_score(y_train, nn_model.predict(X_train_permuted))\n",
    "        scores_diff.append(original_score - permuted_score)\n",
    "    \n",
    "    importances[str(group)] = np.mean(scores_diff)\n",
    "\n",
    "# Sort groups by importance\n",
    "sorted_importances = sorted(importances.items(), key=lambda x: x[1], reverse=False)"
   ]
  },
  {
   "cell_type": "code",
   "execution_count": 15,
   "metadata": {},
   "outputs": [],
   "source": [
    "# matching the group names to the sorted importances\n",
    "n = len(groups)\n",
    "group_names_sorted = []\n",
    "\n",
    "for i in range(n):\n",
    "    name = sorted_importances[i][0]\n",
    "\n",
    "    if 'u10_0' in name:\n",
    "        group_names_sorted.append('u-wind')\n",
    "\n",
    "    elif 'v10_0' in name:\n",
    "        group_names_sorted.append('v-wind')\n",
    "\n",
    "    elif 'day_of_year' in name:\n",
    "        group_names_sorted.append('temporal')\n",
    "\n",
    "    elif 'sp' in name:\n",
    "        group_names_sorted.append('sp')\n",
    "\n",
    "    elif 'blh' in name:\n",
    "        group_names_sorted.append('blh')"
   ]
  },
  {
   "cell_type": "code",
   "execution_count": 16,
   "metadata": {},
   "outputs": [
    {
     "data": {
      "text/plain": [
       "Text(0, 0.5, 'Feature Group')"
      ]
     },
     "execution_count": 16,
     "metadata": {},
     "output_type": "execute_result"
    },
    {
     "data": {
      "image/png": "[encoded data removed]",
      "text/plain": [
       "<Figure size 1200x800 with 1 Axes>"
      ]
     },
     "metadata": {},
     "output_type": "display_data"
    }
   ],
   "source": [
    "# Plotting the importances of the groups\n",
    "fig, ax = plt.subplots(figsize=(12, 8))\n",
    "sns.set_theme(style='ticks', font='Arial')\n",
    "\n",
    "ax.barh(group_names_sorted, [importance for _, importance in sorted_importances], color='#FF620E')\n",
    "\n",
    "ax.set_xlabel('Importance', fontsize=12, fontstyle='italic')\n",
    "ax.set_ylabel('Feature Group', fontsize=12, fontstyle='italic')\n",
    "# ax.set_title('Permutation Importances', fontsize=14)"
   ]
  }
 ],
 "metadata": {
  "kernelspec": {
   "display_name": "venv",
   "language": "python",
   "name": "python3"
  },
  "language_info": {
   "codemirror_mode": {
    "name": "ipython",
    "version": 3
   },
   "file_extension": ".py",
   "mimetype": "text/x-python",
   "name": "python",
   "nbconvert_exporter": "python",
   "pygments_lexer": "ipython3",
   "version": "3.11.9"
  }
 },
 "nbformat": 4,
 "nbformat_minor": 2
}
