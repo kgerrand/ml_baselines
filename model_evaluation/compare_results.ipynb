{
 "cells": [
  {
   "cell_type": "markdown",
   "metadata": {},
   "source": [
    "### Code to Evaluate Model Performance on and Compare Between Different Species/Sites"
   ]
  },
  {
   "cell_type": "code",
   "execution_count": 1,
   "metadata": {},
   "outputs": [],
   "source": [
    "import sys\n",
    "sys.path.append('../')\n",
    "import functions as f"
   ]
  },
  {
   "cell_type": "code",
   "execution_count": 2,
   "metadata": {},
   "outputs": [
    {
     "name": "stdout",
     "output_type": "stream",
     "text": [
      "Evaluating a \u001b[1mMLPClassifier\u001b[0;0m model on \u001b[1mhfc-143a\u001b[0;0m at \u001b[1mMace Head, Ireland\u001b[0;0m.\n"
     ]
    }
   ],
   "source": [
    "# define model type - either 'Neural Network' or 'Random Forest'\n",
    "model_type = 'Neural Network'\n",
    "# model_type = 'Random Forest'\n",
    "\n",
    "# extracting site name from config file\n",
    "site, site_name, compound = f.access_info()\n",
    "\n",
    "# defining model name based on site and model type\n",
    "if model_type == 'Random Forest':\n",
    "    model_name = f'rf_model_{site}.joblib'\n",
    "elif model_type == 'Neural Network':\n",
    "    model_name = f'nn_model_{site}.joblib'\n",
    "\n",
    "\n",
    "# extracting model from the model name\n",
    "model = f.access_model(model_name)\n",
    "\n",
    "print(f\"Evaluating a \\033[1m{model.__class__.__name__}\\033[0;0m model on \\033[1m{compound}\\033[0;0m at \\033[1m{site_name}\\033[0;0m.\")"
   ]
  },
  {
   "cell_type": "code",
   "execution_count": null,
   "metadata": {},
   "outputs": [],
   "source": []
  }
 ],
 "metadata": {
  "kernelspec": {
   "display_name": "venv",
   "language": "python",
   "name": "python3"
  },
  "language_info": {
   "codemirror_mode": {
    "name": "ipython",
    "version": 3
   },
   "file_extension": ".py",
   "mimetype": "text/x-python",
   "name": "python",
   "nbconvert_exporter": "python",
   "pygments_lexer": "ipython3",
   "version": "3.11.9"
  }
 },
 "nbformat": 4,
 "nbformat_minor": 2
}
